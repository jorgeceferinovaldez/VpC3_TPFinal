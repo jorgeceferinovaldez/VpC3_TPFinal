{
 "cells": [
  {
   "cell_type": "code",
   "execution_count": null,
   "id": "19e06463",
   "metadata": {},
   "outputs": [],
   "source": [
    "import os\n",
    "from zipfile import ZipFile\n",
    "import gdown\n",
    "from tqdm.notebook import tqdm\n",
    "import random"
   ]
  },
  {
   "cell_type": "code",
   "execution_count": null,
   "id": "073c4abb",
   "metadata": {},
   "outputs": [],
   "source": [
    "file_id = '1Xvmn1BylM1cPdl21xAO06Xqp9SpoXHiJ'\n",
    "url = f'https://drive.google.com/uc?id={file_id}'\n",
    "\n",
    "data_path = \"data/\" # Defino el directorio de datos donde se guardará el archivo\n",
    "if not os.path.exists(data_path):\n",
    "    os.makedirs(data_path)  # Crea el directorio si no existe\n",
    "\n",
    "\n",
    "output_path = os.path.join(data_path, 'data.zip')\n",
    "\n",
    "gdown.download(url, output_path, quiet=False)"
   ]
  },
  {
   "cell_type": "code",
   "execution_count": null,
   "id": "ce66f898",
   "metadata": {},
   "outputs": [],
   "source": [
    "print(\"Descomprimiendo...\")\n",
    "\n",
    "# descomprimir el archivo ZIP\n",
    "with ZipFile(output_path, 'r') as zip_ref:\n",
    "    # Obtener la lista de archivos en el ZIP\n",
    "    file_list = zip_ref.namelist()\n",
    "    \n",
    "    # Inicializar la barra de progreso\n",
    "    with tqdm(total=len(file_list), unit='file') as pbar:\n",
    "        for file in file_list:\n",
    "            zip_ref.extract(file, data_path)  # Extraer cada archivo\n",
    "            pbar.update(1)  # Actualizar la barra de progreso\n",
    "\n",
    "# Eliminar el archivo ZIP después de descomprimir\n",
    "os.remove(output_path)"
   ]
  }
 ],
 "metadata": {
  "kernelspec": {
   "display_name": "vpc3-grupal",
   "language": "python",
   "name": "python3"
  },
  "language_info": {
   "codemirror_mode": {
    "name": "ipython",
    "version": 3
   },
   "file_extension": ".py",
   "mimetype": "text/x-python",
   "name": "python",
   "nbconvert_exporter": "python",
   "pygments_lexer": "ipython3",
   "version": "3.10.16"
  }
 },
 "nbformat": 4,
 "nbformat_minor": 5
}
