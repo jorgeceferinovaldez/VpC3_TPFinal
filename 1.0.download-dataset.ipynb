{
 "cells": [
  {
   "cell_type": "code",
   "execution_count": 1,
   "id": "19e06463",
   "metadata": {},
   "outputs": [],
   "source": [
    "import os\n",
    "from zipfile import ZipFile\n",
    "import gdown\n",
    "from tqdm.notebook import tqdm\n",
    "import random"
   ]
  },
  {
   "cell_type": "code",
   "execution_count": 5,
   "id": "073c4abb",
   "metadata": {},
   "outputs": [
    {
     "name": "stderr",
     "output_type": "stream",
     "text": [
      "Downloading...\n",
      "From (original): https://drive.google.com/uc?id=1Xvmn1BylM1cPdl21xAO06Xqp9SpoXHiJ\n",
      "From (redirected): https://drive.google.com/uc?id=1Xvmn1BylM1cPdl21xAO06Xqp9SpoXHiJ&confirm=t&uuid=25be4564-fcf6-4474-8eac-cbb5951fd991\n",
      "To: c:\\Users\\PC\\Documents\\IA\\VpC_III\\VpC3_TPFinal\\data\\data.zip\n",
      "100%|██████████| 5.27G/5.27G [02:46<00:00, 31.7MB/s]\n"
     ]
    },
    {
     "data": {
      "text/plain": [
       "'data/data.zip'"
      ]
     },
     "execution_count": 5,
     "metadata": {},
     "output_type": "execute_result"
    }
   ],
   "source": [
    "file_id = '1Xvmn1BylM1cPdl21xAO06Xqp9SpoXHiJ'\n",
    "url = f'https://drive.google.com/uc?id={file_id}'\n",
    "\n",
    "data_path = \"data/\" # Defino el directorio de datos donde se guardará el archivo\n",
    "if not os.path.exists(data_path):\n",
    "    os.makedirs(data_path)  # Crea el directorio si no existe\n",
    "\n",
    "\n",
    "output_path = os.path.join(data_path, 'data.zip')\n",
    "\n",
    "gdown.download(url, output_path, quiet=False)"
   ]
  },
  {
   "cell_type": "code",
   "execution_count": 6,
   "id": "953ed78d",
   "metadata": {},
   "outputs": [
    {
     "name": "stdout",
     "output_type": "stream",
     "text": [
      "Descomprimiendo...\n"
     ]
    },
    {
     "data": {
      "application/vnd.jupyter.widget-view+json": {
       "model_id": "3f7c7a4b42904754b2e6eb1782248237",
       "version_major": 2,
       "version_minor": 0
      },
      "text/plain": [
       "  0%|          | 0/6878 [00:00<?, ?file/s]"
      ]
     },
     "metadata": {},
     "output_type": "display_data"
    }
   ],
   "source": [
    "print(\"Descomprimiendo...\")\n",
    "\n",
    "# descomprimir el archivo ZIP\n",
    "with ZipFile(output_path, 'r') as zip_ref:\n",
    "    # Obtener la lista de archivos en el ZIP\n",
    "    file_list = zip_ref.namelist()\n",
    "    \n",
    "    # Inicializar la barra de progreso\n",
    "    with tqdm(total=len(file_list), unit='file') as pbar:\n",
    "        for file in file_list:\n",
    "            zip_ref.extract(file, data_path)  # Extraer cada archivo\n",
    "            pbar.update(1)  # Actualizar la barra de progreso\n",
    "\n",
    "# Eliminar el archivo ZIP después de descomprimir\n",
    "os.remove(output_path)"
   ]
  }
 ],
 "metadata": {
  "kernelspec": {
   "display_name": "Python (VpCIII)",
   "language": "python",
   "name": "vpciii"
  },
  "language_info": {
   "codemirror_mode": {
    "name": "ipython",
    "version": 3
   },
   "file_extension": ".py",
   "mimetype": "text/x-python",
   "name": "python",
   "nbconvert_exporter": "python",
   "pygments_lexer": "ipython3",
   "version": "3.12.6"
  }
 },
 "nbformat": 4,
 "nbformat_minor": 5
}
