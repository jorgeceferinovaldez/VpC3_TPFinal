{
  "cells": [
    {
      "cell_type": "markdown",
      "metadata": {
        "id": "aNNnQIRvmn54"
      },
      "source": [
        "# Download dataset"
      ]
    },
    {
      "cell_type": "code",
      "execution_count": 1,
      "metadata": {
        "id": "-ATuREItmi06"
      },
      "outputs": [],
      "source": [
        "import os\n",
        "from zipfile import ZipFile\n",
        "import gdown\n",
        "from tqdm.notebook import tqdm\n",
        "import torch\n",
        "import torch.nn as nn\n",
        "import torch.optim as optim\n",
        "from torch.utils.data import Dataset, DataLoader, Subset\n",
        "from torchvision import transforms\n",
        "from transformers import AutoImageProcessor, ViTMAEForPreTraining\n",
        "from PIL import Image\n",
        "import os\n",
        "import numpy as np\n",
        "from tqdm import tqdm\n",
        "from sklearn.metrics import roc_auc_score, roc_curve, auc, average_precision_score, precision_recall_fscore_support, precision_recall_curve\n",
        "import sys\n",
        "import matplotlib.pyplot as plt"
      ]
    },
    {
      "cell_type": "code",
      "execution_count": 2,
      "metadata": {
        "colab": {
          "base_uri": "https://localhost:8080/",
          "height": 142
        },
        "id": "1tmkaNMmmlOS",
        "outputId": "ff2987ef-d5aa-49d7-d461-a9e0ff754235"
      },
      "outputs": [
        {
          "output_type": "stream",
          "name": "stderr",
          "text": [
            "Downloading...\n",
            "From (original): https://drive.google.com/uc?id=1Xvmn1BylM1cPdl21xAO06Xqp9SpoXHiJ\n",
            "From (redirected): https://drive.google.com/uc?id=1Xvmn1BylM1cPdl21xAO06Xqp9SpoXHiJ&confirm=t&uuid=78ce61f1-4c40-4f3c-9f53-a3561c98f388\n",
            "To: /content/data/data.zip\n",
            "100%|██████████| 5.27G/5.27G [01:19<00:00, 66.4MB/s]\n"
          ]
        },
        {
          "output_type": "execute_result",
          "data": {
            "text/plain": [
              "'data/data.zip'"
            ],
            "application/vnd.google.colaboratory.intrinsic+json": {
              "type": "string"
            }
          },
          "metadata": {},
          "execution_count": 2
        }
      ],
      "source": [
        "file_id = '1Xvmn1BylM1cPdl21xAO06Xqp9SpoXHiJ'\n",
        "url = f'https://drive.google.com/uc?id={file_id}'\n",
        "\n",
        "data_path = \"data/\" # Defino el directorio de datos donde se guardará el archivo\n",
        "if not os.path.exists(data_path):\n",
        "    os.makedirs(data_path)  # Crea el directorio si no existe\n",
        "\n",
        "\n",
        "output_path = os.path.join(data_path, 'data.zip')\n",
        "\n",
        "gdown.download(url, output_path, quiet=False)"
      ]
    },
    {
      "cell_type": "code",
      "execution_count": 3,
      "metadata": {
        "colab": {
          "base_uri": "https://localhost:8080/"
        },
        "id": "REy0NzP6mm3c",
        "outputId": "ace46bfd-8bb6-4da7-8f0a-f849b7718aff"
      },
      "outputs": [
        {
          "output_type": "stream",
          "name": "stdout",
          "text": [
            "Descomprimiendo...\n"
          ]
        },
        {
          "output_type": "stream",
          "name": "stderr",
          "text": [
            "100%|██████████| 6878/6878 [00:58<00:00, 118.07file/s]\n"
          ]
        }
      ],
      "source": [
        "print(\"Descomprimiendo...\")\n",
        "\n",
        "# descomprimir el archivo ZIP\n",
        "with ZipFile(output_path, 'r') as zip_ref:\n",
        "    # Obtener la lista de archivos en el ZIP\n",
        "    file_list = zip_ref.namelist()\n",
        "\n",
        "    # Inicializar la barra de progreso\n",
        "    with tqdm(total=len(file_list), unit='file') as pbar:\n",
        "        for file in file_list:\n",
        "            zip_ref.extract(file, data_path)  # Extraer cada archivo\n",
        "            pbar.update(1)  # Actualizar la barra de progreso\n",
        "\n",
        "# Eliminar el archivo ZIP después de descomprimir\n",
        "os.remove(output_path)"
      ]
    },
    {
      "cell_type": "markdown",
      "metadata": {
        "id": "Sn-VSZormyR1"
      },
      "source": [
        "# EDA"
      ]
    },
    {
      "cell_type": "code",
      "execution_count": 4,
      "metadata": {
        "id": "U0Co56mGmzp4"
      },
      "outputs": [],
      "source": [
        "# ya esta en otro notebook"
      ]
    },
    {
      "cell_type": "markdown",
      "metadata": {
        "id": "zPBnjNL71mSN"
      },
      "source": [
        "# Dataset y dataloader"
      ]
    },
    {
      "cell_type": "code",
      "execution_count": 5,
      "metadata": {
        "id": "btbKsYwtv6nO"
      },
      "outputs": [],
      "source": [
        "# Dataset y DataLoader para MVTec AD (sacada de 3.0.model-training.ipynb)\n",
        "class MVTecDataset(Dataset):\n",
        "    def __init__(self, root_path, category, is_train=True, transform=None, mask_transform=None):\n",
        "        \"\"\"\n",
        "        Args:\n",
        "            root_path: Ruta al directorio raíz de MVTec AD\n",
        "            category: Categoría de objetos ('bottle', 'cable', 'carpet', etc.)\n",
        "            is_train: Si es True, carga imágenes de entrenamiento (normales)\n",
        "                      Si es False, carga imágenes de prueba (normales y anómalas)\n",
        "            transform: Transformaciones opcionales a aplicar a las imágenes\n",
        "            mask_transform: Transformaciones opcionales a aplicar a las máscaras\n",
        "        \"\"\"\n",
        "        self.root_path = root_path\n",
        "        self.category = category\n",
        "        self.is_train = is_train\n",
        "        self.transform = transform\n",
        "        self.mask_transform = mask_transform\n",
        "\n",
        "        # Definir directorios\n",
        "        if self.is_train:\n",
        "            self.image_dir = os.path.join(root_path, category, 'train', 'good')\n",
        "            self.image_paths = [os.path.join(self.image_dir, f) for f in os.listdir(self.image_dir)\n",
        "                               if f.endswith('.png')]\n",
        "            self.labels = np.zeros(len(self.image_paths), dtype=np.float32)  # 0 = normal\n",
        "            self.mask_paths = None\n",
        "\n",
        "        else:  # Test set\n",
        "            self.image_dir = os.path.join(root_path, category, 'test')\n",
        "            self.image_paths = []\n",
        "            self.labels = []\n",
        "            self.mask_paths = []\n",
        "\n",
        "            # Imágenes normales (buenas)\n",
        "            good_dir = os.path.join(self.image_dir, 'good')\n",
        "            if os.path.exists(good_dir):\n",
        "                good_images = [os.path.join(good_dir, f) for f in os.listdir(good_dir)\n",
        "                              if f.endswith('.png')]\n",
        "                self.image_paths.extend(good_images)\n",
        "                self.labels.extend([0] * len(good_images))  # 0 = normal\n",
        "                self.mask_paths.extend([None] * len(good_images))\n",
        "\n",
        "            # Imágenes anómalas (con defectos)\n",
        "            defect_types = [d for d in os.listdir(self.image_dir)\n",
        "                           if os.path.isdir(os.path.join(self.image_dir, d)) and d != 'good']\n",
        "\n",
        "            for defect in defect_types:\n",
        "                defect_dir = os.path.join(self.image_dir, defect)\n",
        "                defect_images = [os.path.join(defect_dir, f) for f in os.listdir(defect_dir)\n",
        "                                if f.endswith('.png')]\n",
        "                self.image_paths.extend(defect_images)\n",
        "                self.labels.extend([1] * len(defect_images))  # 1 = anomalía\n",
        "\n",
        "                # Añadir máscaras de ground truth (si existen)\n",
        "                gt_dir = os.path.join(root_path, category, 'ground_truth', defect)\n",
        "                if os.path.exists(gt_dir):\n",
        "                    for img_path in defect_images:\n",
        "                        img_name = os.path.basename(img_path)\n",
        "                        mask_name = img_name.replace('.png', '_mask.png')\n",
        "                        mask_path = os.path.join(gt_dir, mask_name)\n",
        "                        if os.path.exists(mask_path):\n",
        "                            self.mask_paths.append(mask_path)\n",
        "                        else:\n",
        "                            self.mask_paths.append(None)\n",
        "                else:\n",
        "                    self.mask_paths.extend([None] * len(defect_images))\n",
        "\n",
        "    def __len__(self):\n",
        "        return len(self.image_paths)\n",
        "\n",
        "    def __getitem__(self, idx):\n",
        "        # Cargar imagen\n",
        "        img_path = self.image_paths[idx]\n",
        "        image = Image.open(img_path).convert('RGB') # Convertir a RGB\n",
        "        label = self.labels[idx]\n",
        "\n",
        "        # Cargar máscara si existe (solo para test y anomalías)\n",
        "        mask = None\n",
        "        if not self.is_train and self.mask_paths[idx] is not None: # Si es test y hay máscara\n",
        "            mask_path = self.mask_paths[idx]\n",
        "            mask = Image.open(mask_path).convert('L') # Convertir a escala de grises\n",
        "            if self.mask_transform:\n",
        "                mask = self.mask_transform(mask) # Aplicar transformaciones a la máscara\n",
        "            elif self.transform:\n",
        "                mask = transforms.Compose([\n",
        "                    transforms.Resize((224, 224)),\n",
        "                    transforms.ToTensor(),\n",
        "                ])(mask) # Aplicar transformaciones por defecto a la máscara\n",
        "        else:\n",
        "            # Crear una máscara vacía si no existe\n",
        "            mask = torch.zeros((1, 224, 224))\n",
        "\n",
        "        # Aplicar transformaciones a la imagen\n",
        "        if self.transform:\n",
        "            image = self.transform(image)\n",
        "\n",
        "        # Siempre devolver tres elementos\n",
        "        return image, label, mask"
      ]
    },
    {
      "cell_type": "markdown",
      "metadata": {
        "id": "fDpEI0Mg1o2X"
      },
      "source": [
        "# ViT MAE"
      ]
    },
    {
      "cell_type": "code",
      "execution_count": 6,
      "metadata": {
        "colab": {
          "base_uri": "https://localhost:8080/",
          "height": 1000,
          "referenced_widgets": [
            "9c1d8ee3d1fc45efa773ca6ff17aa20d",
            "7bc64a7776f440cf85cce289ad0f0648",
            "bc20582c8c884f00b4a31b0335cd963c",
            "f5d5e75f7098436a982c445a184ef196",
            "a5b06f4b25014efd85495f8c3d41ba5b",
            "c5142f4bcca842da8f54fff156e57f56",
            "d59e4da4b9a04e0086fb0605efbefdb4",
            "7c23776dd56d45709ea9284aceb9d67c",
            "f9839eb606e14514889302e556ca1f22",
            "66cf8451fae0439c90167ec94da97641",
            "65c1393e93fa4f83a54666c475e17030",
            "429ba5da222245a68fe8bf6748a3a101",
            "6788071c000d42f2964f5a5aff07a054",
            "e17603f7420a457ca5906b6a9277ee70",
            "c27691c2573a49afa49ca8ffffcff3f0",
            "a36936ec87ef4637b4ba6330fef0999a",
            "0cc410964e3f438d83bc90cb35e7e2fd",
            "743d8a60ba5945fbb9a57690ac8fd9dc",
            "b63de7331b1442a89f337fbc587540f9",
            "c67f9273d61f40ae854acd7f8c986dd8",
            "2481c40a2a1b4b8d9177b92ac6a2a262",
            "6e142426efc545d2b8a2b3e1742cfff6",
            "a4a9c288fe444f3f8410bc78327c170c",
            "52cc815053b84c2e9cf53beef3018bfe",
            "2d52b54096054929b3cedc2e9d1ad656",
            "4efc60800763411a8e2bf9f59792749d",
            "e3a50ae5fa0f475c9fb507f52ff9d9a7",
            "185dd72317e94248a1ec90717d4db1b0",
            "e02ba7636d7e4ce38a2eeffc8bcf6fde",
            "1921b389e9ab4922a8c89c24ae93b7a6",
            "0727c083b5eb48a993aeef5f48b68f43",
            "4492118ac8584e488b081dc3a803be68",
            "1bcaf522756b404890804ef12522382c"
          ]
        },
        "id": "T06XBRiYsLn3",
        "outputId": "1da305d9-27cf-4cc8-f717-963e4e63b6ee"
      },
      "outputs": [
        {
          "output_type": "stream",
          "name": "stdout",
          "text": [
            "\n",
            "==================== PROCESANDO CATEGORÍA: BOTTLE ====================\n",
            "Usando dispositivo: cuda\n"
          ]
        },
        {
          "output_type": "stream",
          "name": "stderr",
          "text": [
            "/usr/local/lib/python3.11/dist-packages/huggingface_hub/utils/_auth.py:94: UserWarning: \n",
            "The secret `HF_TOKEN` does not exist in your Colab secrets.\n",
            "To authenticate with the Hugging Face Hub, create a token in your settings tab (https://huggingface.co/settings/tokens), set it as secret in your Google Colab and restart your session.\n",
            "You will be able to reuse this secret in all of your notebooks.\n",
            "Please note that authentication is recommended but still optional to access public models or datasets.\n",
            "  warnings.warn(\n"
          ]
        },
        {
          "output_type": "display_data",
          "data": {
            "text/plain": [
              "preprocessor_config.json:   0%|          | 0.00/217 [00:00<?, ?B/s]"
            ],
            "application/vnd.jupyter.widget-view+json": {
              "version_major": 2,
              "version_minor": 0,
              "model_id": "9c1d8ee3d1fc45efa773ca6ff17aa20d"
            }
          },
          "metadata": {}
        },
        {
          "output_type": "display_data",
          "data": {
            "text/plain": [
              "config.json:   0%|          | 0.00/676 [00:00<?, ?B/s]"
            ],
            "application/vnd.jupyter.widget-view+json": {
              "version_major": 2,
              "version_minor": 0,
              "model_id": "429ba5da222245a68fe8bf6748a3a101"
            }
          },
          "metadata": {}
        },
        {
          "output_type": "stream",
          "name": "stderr",
          "text": [
            "Fast image processor class <class 'transformers.models.vit.image_processing_vit_fast.ViTImageProcessorFast'> is available for this model. Using slow image processor class. To use the fast image processor class set `use_fast=True`.\n"
          ]
        },
        {
          "output_type": "display_data",
          "data": {
            "text/plain": [
              "model.safetensors:   0%|          | 0.00/448M [00:00<?, ?B/s]"
            ],
            "application/vnd.jupyter.widget-view+json": {
              "version_major": 2,
              "version_minor": 0,
              "model_id": "a4a9c288fe444f3f8410bc78327c170c"
            }
          },
          "metadata": {}
        },
        {
          "output_type": "stream",
          "name": "stdout",
          "text": [
            "\n",
            "Iniciando fine-tuning para la categoría: bottle...\n"
          ]
        },
        {
          "output_type": "stream",
          "name": "stderr",
          "text": [
            "Epoch 1/15 (Train): 100%|██████████| 14/14 [00:08<00:00,  1.71it/s]"
          ]
        },
        {
          "output_type": "stream",
          "name": "stdout",
          "text": [
            "Epoch 1/15, Pérdida Media de Entrenamiento: 0.0163\n"
          ]
        },
        {
          "output_type": "stream",
          "name": "stderr",
          "text": [
            "\n",
            "Epoch 2/15 (Train): 100%|██████████| 14/14 [00:08<00:00,  1.71it/s]"
          ]
        },
        {
          "output_type": "stream",
          "name": "stdout",
          "text": [
            "Epoch 2/15, Pérdida Media de Entrenamiento: 0.0148\n"
          ]
        },
        {
          "output_type": "stream",
          "name": "stderr",
          "text": [
            "\n",
            "Epoch 3/15 (Train): 100%|██████████| 14/14 [00:07<00:00,  1.77it/s]"
          ]
        },
        {
          "output_type": "stream",
          "name": "stdout",
          "text": [
            "Epoch 3/15, Pérdida Media de Entrenamiento: 0.0146\n"
          ]
        },
        {
          "output_type": "stream",
          "name": "stderr",
          "text": [
            "\n",
            "Epoch 4/15 (Train): 100%|██████████| 14/14 [00:07<00:00,  1.96it/s]"
          ]
        },
        {
          "output_type": "stream",
          "name": "stdout",
          "text": [
            "Epoch 4/15, Pérdida Media de Entrenamiento: 0.0136\n"
          ]
        },
        {
          "output_type": "stream",
          "name": "stderr",
          "text": [
            "\n",
            "Epoch 5/15 (Train): 100%|██████████| 14/14 [00:08<00:00,  1.72it/s]"
          ]
        },
        {
          "output_type": "stream",
          "name": "stdout",
          "text": [
            "Epoch 5/15, Pérdida Media de Entrenamiento: 0.0131\n"
          ]
        },
        {
          "output_type": "stream",
          "name": "stderr",
          "text": [
            "\n",
            "Epoch 6/15 (Train): 100%|██████████| 14/14 [00:07<00:00,  1.95it/s]"
          ]
        },
        {
          "output_type": "stream",
          "name": "stdout",
          "text": [
            "Epoch 6/15, Pérdida Media de Entrenamiento: 0.0138\n"
          ]
        },
        {
          "output_type": "stream",
          "name": "stderr",
          "text": [
            "\n",
            "Epoch 7/15 (Train): 100%|██████████| 14/14 [00:08<00:00,  1.73it/s]"
          ]
        },
        {
          "output_type": "stream",
          "name": "stdout",
          "text": [
            "Epoch 7/15, Pérdida Media de Entrenamiento: 0.0140\n"
          ]
        },
        {
          "output_type": "stream",
          "name": "stderr",
          "text": [
            "\n",
            "Epoch 8/15 (Train): 100%|██████████| 14/14 [00:07<00:00,  1.80it/s]"
          ]
        },
        {
          "output_type": "stream",
          "name": "stdout",
          "text": [
            "Epoch 8/15, Pérdida Media de Entrenamiento: 0.0139\n"
          ]
        },
        {
          "output_type": "stream",
          "name": "stderr",
          "text": [
            "\n",
            "Epoch 9/15 (Train): 100%|██████████| 14/14 [00:07<00:00,  1.95it/s]"
          ]
        },
        {
          "output_type": "stream",
          "name": "stdout",
          "text": [
            "Epoch 9/15, Pérdida Media de Entrenamiento: 0.0136\n"
          ]
        },
        {
          "output_type": "stream",
          "name": "stderr",
          "text": [
            "\n",
            "Epoch 10/15 (Train): 100%|██████████| 14/14 [00:08<00:00,  1.70it/s]"
          ]
        },
        {
          "output_type": "stream",
          "name": "stdout",
          "text": [
            "Epoch 10/15, Pérdida Media de Entrenamiento: 0.0128\n"
          ]
        },
        {
          "output_type": "stream",
          "name": "stderr",
          "text": [
            "\n",
            "Epoch 11/15 (Train): 100%|██████████| 14/14 [00:07<00:00,  1.94it/s]"
          ]
        },
        {
          "output_type": "stream",
          "name": "stdout",
          "text": [
            "Epoch 11/15, Pérdida Media de Entrenamiento: 0.0123\n"
          ]
        },
        {
          "output_type": "stream",
          "name": "stderr",
          "text": [
            "\n",
            "Epoch 12/15 (Train): 100%|██████████| 14/14 [00:08<00:00,  1.72it/s]"
          ]
        },
        {
          "output_type": "stream",
          "name": "stdout",
          "text": [
            "Epoch 12/15, Pérdida Media de Entrenamiento: 0.0132\n"
          ]
        },
        {
          "output_type": "stream",
          "name": "stderr",
          "text": [
            "\n",
            "Epoch 13/15 (Train): 100%|██████████| 14/14 [00:08<00:00,  1.72it/s]"
          ]
        },
        {
          "output_type": "stream",
          "name": "stdout",
          "text": [
            "Epoch 13/15, Pérdida Media de Entrenamiento: 0.0130\n"
          ]
        },
        {
          "output_type": "stream",
          "name": "stderr",
          "text": [
            "\n",
            "Epoch 14/15 (Train): 100%|██████████| 14/14 [00:07<00:00,  1.93it/s]"
          ]
        },
        {
          "output_type": "stream",
          "name": "stdout",
          "text": [
            "Epoch 14/15, Pérdida Media de Entrenamiento: 0.0125\n"
          ]
        },
        {
          "output_type": "stream",
          "name": "stderr",
          "text": [
            "\n",
            "Epoch 15/15 (Train): 100%|██████████| 14/14 [00:08<00:00,  1.67it/s]"
          ]
        },
        {
          "output_type": "stream",
          "name": "stdout",
          "text": [
            "Epoch 15/15, Pérdida Media de Entrenamiento: 0.0123\n"
          ]
        },
        {
          "output_type": "stream",
          "name": "stderr",
          "text": [
            "\n"
          ]
        },
        {
          "output_type": "stream",
          "name": "stdout",
          "text": [
            "Gráfica de pérdida de entrenamiento guardada en: reports/vit_mae/plots/training_loss_bottle.png\n",
            "\n",
            "Evaluando en el conjunto de test para la categoría: bottle (puntuación por instancia)...\n"
          ]
        },
        {
          "output_type": "stream",
          "name": "stderr",
          "text": [
            "Evaluando Instancias: 100%|██████████| 83/83 [00:03<00:00, 26.22it/s]"
          ]
        },
        {
          "output_type": "stream",
          "name": "stdout",
          "text": [
            "\n",
            "Resultados para la categoría: bottle\n",
            "ROC AUC a Nivel de Imagen: 0.7913\n"
          ]
        },
        {
          "output_type": "stream",
          "name": "stderr",
          "text": [
            "\n"
          ]
        },
        {
          "output_type": "stream",
          "name": "stdout",
          "text": [
            "Gráfica de curva ROC guardada en: reports/vit_mae/plots/roc_curve_bottle.png\n",
            "Modelo fine-tuned guardado en reports/vit_mae/trained_models/vit_mae_finetuned_bottle.pth\n",
            "\n",
            "==================== PROCESANDO CATEGORÍA: CARPET ====================\n",
            "Usando dispositivo: cuda\n"
          ]
        },
        {
          "output_type": "stream",
          "name": "stderr",
          "text": [
            "Fast image processor class <class 'transformers.models.vit.image_processing_vit_fast.ViTImageProcessorFast'> is available for this model. Using slow image processor class. To use the fast image processor class set `use_fast=True`.\n"
          ]
        },
        {
          "output_type": "stream",
          "name": "stdout",
          "text": [
            "\n",
            "Iniciando fine-tuning para la categoría: carpet...\n"
          ]
        },
        {
          "output_type": "stream",
          "name": "stderr",
          "text": [
            "Epoch 1/15 (Train): 100%|██████████| 18/18 [00:15<00:00,  1.17it/s]"
          ]
        },
        {
          "output_type": "stream",
          "name": "stdout",
          "text": [
            "Epoch 1/15, Pérdida Media de Entrenamiento: 0.1312\n"
          ]
        },
        {
          "output_type": "stream",
          "name": "stderr",
          "text": [
            "\n",
            "Epoch 2/15 (Train): 100%|██████████| 18/18 [00:14<00:00,  1.27it/s]"
          ]
        },
        {
          "output_type": "stream",
          "name": "stdout",
          "text": [
            "Epoch 2/15, Pérdida Media de Entrenamiento: 0.1278\n"
          ]
        },
        {
          "output_type": "stream",
          "name": "stderr",
          "text": [
            "\n",
            "Epoch 3/15 (Train): 100%|██████████| 18/18 [00:14<00:00,  1.27it/s]"
          ]
        },
        {
          "output_type": "stream",
          "name": "stdout",
          "text": [
            "Epoch 3/15, Pérdida Media de Entrenamiento: 0.1244\n"
          ]
        },
        {
          "output_type": "stream",
          "name": "stderr",
          "text": [
            "\n",
            "Epoch 4/15 (Train): 100%|██████████| 18/18 [00:13<00:00,  1.29it/s]"
          ]
        },
        {
          "output_type": "stream",
          "name": "stdout",
          "text": [
            "Epoch 4/15, Pérdida Media de Entrenamiento: 0.1228\n"
          ]
        },
        {
          "output_type": "stream",
          "name": "stderr",
          "text": [
            "\n",
            "Epoch 5/15 (Train): 100%|██████████| 18/18 [00:14<00:00,  1.27it/s]"
          ]
        },
        {
          "output_type": "stream",
          "name": "stdout",
          "text": [
            "Epoch 5/15, Pérdida Media de Entrenamiento: 0.1251\n"
          ]
        },
        {
          "output_type": "stream",
          "name": "stderr",
          "text": [
            "\n",
            "Epoch 6/15 (Train): 100%|██████████| 18/18 [00:14<00:00,  1.27it/s]"
          ]
        },
        {
          "output_type": "stream",
          "name": "stdout",
          "text": [
            "Epoch 6/15, Pérdida Media de Entrenamiento: 0.1212\n"
          ]
        },
        {
          "output_type": "stream",
          "name": "stderr",
          "text": [
            "\n",
            "Epoch 7/15 (Train): 100%|██████████| 18/18 [00:14<00:00,  1.26it/s]"
          ]
        },
        {
          "output_type": "stream",
          "name": "stdout",
          "text": [
            "Epoch 7/15, Pérdida Media de Entrenamiento: 0.1223\n"
          ]
        },
        {
          "output_type": "stream",
          "name": "stderr",
          "text": [
            "\n",
            "Epoch 8/15 (Train): 100%|██████████| 18/18 [00:14<00:00,  1.22it/s]"
          ]
        },
        {
          "output_type": "stream",
          "name": "stdout",
          "text": [
            "Epoch 8/15, Pérdida Media de Entrenamiento: 0.1219\n"
          ]
        },
        {
          "output_type": "stream",
          "name": "stderr",
          "text": [
            "\n",
            "Epoch 9/15 (Train): 100%|██████████| 18/18 [00:14<00:00,  1.25it/s]"
          ]
        },
        {
          "output_type": "stream",
          "name": "stdout",
          "text": [
            "Epoch 9/15, Pérdida Media de Entrenamiento: 0.1234\n"
          ]
        },
        {
          "output_type": "stream",
          "name": "stderr",
          "text": [
            "\n",
            "Epoch 10/15 (Train): 100%|██████████| 18/18 [00:14<00:00,  1.27it/s]"
          ]
        },
        {
          "output_type": "stream",
          "name": "stdout",
          "text": [
            "Epoch 10/15, Pérdida Media de Entrenamiento: 0.1195\n"
          ]
        },
        {
          "output_type": "stream",
          "name": "stderr",
          "text": [
            "\n",
            "Epoch 11/15 (Train): 100%|██████████| 18/18 [00:14<00:00,  1.26it/s]"
          ]
        },
        {
          "output_type": "stream",
          "name": "stdout",
          "text": [
            "Epoch 11/15, Pérdida Media de Entrenamiento: 0.1182\n"
          ]
        },
        {
          "output_type": "stream",
          "name": "stderr",
          "text": [
            "\n",
            "Epoch 12/15 (Train): 100%|██████████| 18/18 [00:14<00:00,  1.25it/s]"
          ]
        },
        {
          "output_type": "stream",
          "name": "stdout",
          "text": [
            "Epoch 12/15, Pérdida Media de Entrenamiento: 0.1190\n"
          ]
        },
        {
          "output_type": "stream",
          "name": "stderr",
          "text": [
            "\n",
            "Epoch 13/15 (Train): 100%|██████████| 18/18 [00:15<00:00,  1.19it/s]"
          ]
        },
        {
          "output_type": "stream",
          "name": "stdout",
          "text": [
            "Epoch 13/15, Pérdida Media de Entrenamiento: 0.1176\n"
          ]
        },
        {
          "output_type": "stream",
          "name": "stderr",
          "text": [
            "\n",
            "Epoch 14/15 (Train): 100%|██████████| 18/18 [00:14<00:00,  1.20it/s]"
          ]
        },
        {
          "output_type": "stream",
          "name": "stdout",
          "text": [
            "Epoch 14/15, Pérdida Media de Entrenamiento: 0.1206\n"
          ]
        },
        {
          "output_type": "stream",
          "name": "stderr",
          "text": [
            "\n",
            "Epoch 15/15 (Train): 100%|██████████| 18/18 [00:15<00:00,  1.19it/s]"
          ]
        },
        {
          "output_type": "stream",
          "name": "stdout",
          "text": [
            "Epoch 15/15, Pérdida Media de Entrenamiento: 0.1202\n"
          ]
        },
        {
          "output_type": "stream",
          "name": "stderr",
          "text": [
            "\n"
          ]
        },
        {
          "output_type": "stream",
          "name": "stdout",
          "text": [
            "Gráfica de pérdida de entrenamiento guardada en: reports/vit_mae/plots/training_loss_carpet.png\n",
            "\n",
            "Evaluando en el conjunto de test para la categoría: carpet (puntuación por instancia)...\n"
          ]
        },
        {
          "output_type": "stream",
          "name": "stderr",
          "text": [
            "Evaluando Instancias: 100%|██████████| 117/117 [00:06<00:00, 16.79it/s]"
          ]
        },
        {
          "output_type": "stream",
          "name": "stdout",
          "text": [
            "\n",
            "Resultados para la categoría: carpet\n",
            "ROC AUC a Nivel de Imagen: 0.4872\n"
          ]
        },
        {
          "output_type": "stream",
          "name": "stderr",
          "text": [
            "\n"
          ]
        },
        {
          "output_type": "stream",
          "name": "stdout",
          "text": [
            "Gráfica de curva ROC guardada en: reports/vit_mae/plots/roc_curve_carpet.png\n",
            "Modelo fine-tuned guardado en reports/vit_mae/trained_models/vit_mae_finetuned_carpet.pth\n",
            "\n",
            "==================== PROCESANDO CATEGORÍA: GRID ====================\n",
            "Usando dispositivo: cuda\n"
          ]
        },
        {
          "output_type": "stream",
          "name": "stderr",
          "text": [
            "Fast image processor class <class 'transformers.models.vit.image_processing_vit_fast.ViTImageProcessorFast'> is available for this model. Using slow image processor class. To use the fast image processor class set `use_fast=True`.\n"
          ]
        },
        {
          "output_type": "stream",
          "name": "stdout",
          "text": [
            "\n",
            "Iniciando fine-tuning para la categoría: grid...\n"
          ]
        },
        {
          "output_type": "stream",
          "name": "stderr",
          "text": [
            "Epoch 1/15 (Train): 100%|██████████| 17/17 [00:08<00:00,  1.90it/s]"
          ]
        },
        {
          "output_type": "stream",
          "name": "stdout",
          "text": [
            "Epoch 1/15, Pérdida Media de Entrenamiento: 0.0543\n"
          ]
        },
        {
          "output_type": "stream",
          "name": "stderr",
          "text": [
            "\n",
            "Epoch 2/15 (Train): 100%|██████████| 17/17 [00:08<00:00,  2.01it/s]"
          ]
        },
        {
          "output_type": "stream",
          "name": "stdout",
          "text": [
            "Epoch 2/15, Pérdida Media de Entrenamiento: 0.0478\n"
          ]
        },
        {
          "output_type": "stream",
          "name": "stderr",
          "text": [
            "\n",
            "Epoch 3/15 (Train): 100%|██████████| 17/17 [00:07<00:00,  2.16it/s]"
          ]
        },
        {
          "output_type": "stream",
          "name": "stdout",
          "text": [
            "Epoch 3/15, Pérdida Media de Entrenamiento: 0.0469\n"
          ]
        },
        {
          "output_type": "stream",
          "name": "stderr",
          "text": [
            "\n",
            "Epoch 4/15 (Train): 100%|██████████| 17/17 [00:08<00:00,  1.94it/s]"
          ]
        },
        {
          "output_type": "stream",
          "name": "stdout",
          "text": [
            "Epoch 4/15, Pérdida Media de Entrenamiento: 0.0450\n"
          ]
        },
        {
          "output_type": "stream",
          "name": "stderr",
          "text": [
            "\n",
            "Epoch 5/15 (Train): 100%|██████████| 17/17 [00:08<00:00,  2.11it/s]"
          ]
        },
        {
          "output_type": "stream",
          "name": "stdout",
          "text": [
            "Epoch 5/15, Pérdida Media de Entrenamiento: 0.0441\n"
          ]
        },
        {
          "output_type": "stream",
          "name": "stderr",
          "text": [
            "\n",
            "Epoch 6/15 (Train): 100%|██████████| 17/17 [00:07<00:00,  2.18it/s]"
          ]
        },
        {
          "output_type": "stream",
          "name": "stdout",
          "text": [
            "Epoch 6/15, Pérdida Media de Entrenamiento: 0.0435\n"
          ]
        },
        {
          "output_type": "stream",
          "name": "stderr",
          "text": [
            "\n",
            "Epoch 7/15 (Train): 100%|██████████| 17/17 [00:08<00:00,  2.03it/s]"
          ]
        },
        {
          "output_type": "stream",
          "name": "stdout",
          "text": [
            "Epoch 7/15, Pérdida Media de Entrenamiento: 0.0422\n"
          ]
        },
        {
          "output_type": "stream",
          "name": "stderr",
          "text": [
            "\n",
            "Epoch 8/15 (Train): 100%|██████████| 17/17 [00:07<00:00,  2.21it/s]"
          ]
        },
        {
          "output_type": "stream",
          "name": "stdout",
          "text": [
            "Epoch 8/15, Pérdida Media de Entrenamiento: 0.0418\n"
          ]
        },
        {
          "output_type": "stream",
          "name": "stderr",
          "text": [
            "\n",
            "Epoch 9/15 (Train): 100%|██████████| 17/17 [00:08<00:00,  1.99it/s]"
          ]
        },
        {
          "output_type": "stream",
          "name": "stdout",
          "text": [
            "Epoch 9/15, Pérdida Media de Entrenamiento: 0.0412\n"
          ]
        },
        {
          "output_type": "stream",
          "name": "stderr",
          "text": [
            "\n",
            "Epoch 10/15 (Train): 100%|██████████| 17/17 [00:08<00:00,  2.01it/s]"
          ]
        },
        {
          "output_type": "stream",
          "name": "stdout",
          "text": [
            "Epoch 10/15, Pérdida Media de Entrenamiento: 0.0407\n"
          ]
        },
        {
          "output_type": "stream",
          "name": "stderr",
          "text": [
            "\n",
            "Epoch 11/15 (Train): 100%|██████████| 17/17 [00:07<00:00,  2.20it/s]"
          ]
        },
        {
          "output_type": "stream",
          "name": "stdout",
          "text": [
            "Epoch 11/15, Pérdida Media de Entrenamiento: 0.0397\n"
          ]
        },
        {
          "output_type": "stream",
          "name": "stderr",
          "text": [
            "\n",
            "Epoch 12/15 (Train): 100%|██████████| 17/17 [00:08<00:00,  1.98it/s]"
          ]
        },
        {
          "output_type": "stream",
          "name": "stdout",
          "text": [
            "Epoch 12/15, Pérdida Media de Entrenamiento: 0.0399\n"
          ]
        },
        {
          "output_type": "stream",
          "name": "stderr",
          "text": [
            "\n",
            "Epoch 13/15 (Train): 100%|██████████| 17/17 [00:08<00:00,  1.95it/s]"
          ]
        },
        {
          "output_type": "stream",
          "name": "stdout",
          "text": [
            "Epoch 13/15, Pérdida Media de Entrenamiento: 0.0406\n"
          ]
        },
        {
          "output_type": "stream",
          "name": "stderr",
          "text": [
            "\n",
            "Epoch 14/15 (Train): 100%|██████████| 17/17 [00:07<00:00,  2.22it/s]"
          ]
        },
        {
          "output_type": "stream",
          "name": "stdout",
          "text": [
            "Epoch 14/15, Pérdida Media de Entrenamiento: 0.0404\n"
          ]
        },
        {
          "output_type": "stream",
          "name": "stderr",
          "text": [
            "\n",
            "Epoch 15/15 (Train): 100%|██████████| 17/17 [00:08<00:00,  1.96it/s]"
          ]
        },
        {
          "output_type": "stream",
          "name": "stdout",
          "text": [
            "Epoch 15/15, Pérdida Media de Entrenamiento: 0.0399\n",
            "Gráfica de pérdida de entrenamiento guardada en: reports/vit_mae/plots/training_loss_grid.png\n",
            "\n",
            "Evaluando en el conjunto de test para la categoría: grid (puntuación por instancia)...\n"
          ]
        },
        {
          "output_type": "stream",
          "name": "stderr",
          "text": [
            "\n",
            "Evaluando Instancias: 100%|██████████| 78/78 [00:02<00:00, 27.51it/s]"
          ]
        },
        {
          "output_type": "stream",
          "name": "stdout",
          "text": [
            "\n",
            "Resultados para la categoría: grid\n",
            "ROC AUC a Nivel de Imagen: 0.9081\n"
          ]
        },
        {
          "output_type": "stream",
          "name": "stderr",
          "text": [
            "\n"
          ]
        },
        {
          "output_type": "stream",
          "name": "stdout",
          "text": [
            "Gráfica de curva ROC guardada en: reports/vit_mae/plots/roc_curve_grid.png\n",
            "Modelo fine-tuned guardado en reports/vit_mae/trained_models/vit_mae_finetuned_grid.pth\n",
            "\n",
            "==================== PROCESANDO CATEGORÍA: WOOD ====================\n",
            "Usando dispositivo: cuda\n"
          ]
        },
        {
          "output_type": "stream",
          "name": "stderr",
          "text": [
            "Fast image processor class <class 'transformers.models.vit.image_processing_vit_fast.ViTImageProcessorFast'> is available for this model. Using slow image processor class. To use the fast image processor class set `use_fast=True`.\n"
          ]
        },
        {
          "output_type": "stream",
          "name": "stdout",
          "text": [
            "\n",
            "Iniciando fine-tuning para la categoría: wood...\n"
          ]
        },
        {
          "output_type": "stream",
          "name": "stderr",
          "text": [
            "Epoch 1/15 (Train): 100%|██████████| 16/16 [00:13<00:00,  1.14it/s]"
          ]
        },
        {
          "output_type": "stream",
          "name": "stdout",
          "text": [
            "Epoch 1/15, Pérdida Media de Entrenamiento: 0.0226\n"
          ]
        },
        {
          "output_type": "stream",
          "name": "stderr",
          "text": [
            "\n",
            "Epoch 2/15 (Train): 100%|██████████| 16/16 [00:13<00:00,  1.18it/s]"
          ]
        },
        {
          "output_type": "stream",
          "name": "stdout",
          "text": [
            "Epoch 2/15, Pérdida Media de Entrenamiento: 0.0226\n"
          ]
        },
        {
          "output_type": "stream",
          "name": "stderr",
          "text": [
            "\n",
            "Epoch 3/15 (Train): 100%|██████████| 16/16 [00:13<00:00,  1.21it/s]"
          ]
        },
        {
          "output_type": "stream",
          "name": "stdout",
          "text": [
            "Epoch 3/15, Pérdida Media de Entrenamiento: 0.0229\n"
          ]
        },
        {
          "output_type": "stream",
          "name": "stderr",
          "text": [
            "\n",
            "Epoch 4/15 (Train): 100%|██████████| 16/16 [00:13<00:00,  1.23it/s]"
          ]
        },
        {
          "output_type": "stream",
          "name": "stdout",
          "text": [
            "Epoch 4/15, Pérdida Media de Entrenamiento: 0.0223\n"
          ]
        },
        {
          "output_type": "stream",
          "name": "stderr",
          "text": [
            "\n",
            "Epoch 5/15 (Train): 100%|██████████| 16/16 [00:12<00:00,  1.24it/s]"
          ]
        },
        {
          "output_type": "stream",
          "name": "stdout",
          "text": [
            "Epoch 5/15, Pérdida Media de Entrenamiento: 0.0216\n"
          ]
        },
        {
          "output_type": "stream",
          "name": "stderr",
          "text": [
            "\n",
            "Epoch 6/15 (Train): 100%|██████████| 16/16 [00:13<00:00,  1.22it/s]"
          ]
        },
        {
          "output_type": "stream",
          "name": "stdout",
          "text": [
            "Epoch 6/15, Pérdida Media de Entrenamiento: 0.0224\n"
          ]
        },
        {
          "output_type": "stream",
          "name": "stderr",
          "text": [
            "\n",
            "Epoch 7/15 (Train): 100%|██████████| 16/16 [00:13<00:00,  1.21it/s]"
          ]
        },
        {
          "output_type": "stream",
          "name": "stdout",
          "text": [
            "Epoch 7/15, Pérdida Media de Entrenamiento: 0.0222\n"
          ]
        },
        {
          "output_type": "stream",
          "name": "stderr",
          "text": [
            "\n",
            "Epoch 8/15 (Train): 100%|██████████| 16/16 [00:13<00:00,  1.21it/s]"
          ]
        },
        {
          "output_type": "stream",
          "name": "stdout",
          "text": [
            "Epoch 8/15, Pérdida Media de Entrenamiento: 0.0224\n"
          ]
        },
        {
          "output_type": "stream",
          "name": "stderr",
          "text": [
            "\n",
            "Epoch 9/15 (Train): 100%|██████████| 16/16 [00:13<00:00,  1.22it/s]"
          ]
        },
        {
          "output_type": "stream",
          "name": "stdout",
          "text": [
            "Epoch 9/15, Pérdida Media de Entrenamiento: 0.0227\n"
          ]
        },
        {
          "output_type": "stream",
          "name": "stderr",
          "text": [
            "\n",
            "Epoch 10/15 (Train): 100%|██████████| 16/16 [00:12<00:00,  1.24it/s]"
          ]
        },
        {
          "output_type": "stream",
          "name": "stdout",
          "text": [
            "Epoch 10/15, Pérdida Media de Entrenamiento: 0.0223\n"
          ]
        },
        {
          "output_type": "stream",
          "name": "stderr",
          "text": [
            "\n",
            "Epoch 11/15 (Train): 100%|██████████| 16/16 [00:13<00:00,  1.22it/s]"
          ]
        },
        {
          "output_type": "stream",
          "name": "stdout",
          "text": [
            "Epoch 11/15, Pérdida Media de Entrenamiento: 0.0221\n"
          ]
        },
        {
          "output_type": "stream",
          "name": "stderr",
          "text": [
            "\n",
            "Epoch 12/15 (Train): 100%|██████████| 16/16 [00:12<00:00,  1.24it/s]"
          ]
        },
        {
          "output_type": "stream",
          "name": "stdout",
          "text": [
            "Epoch 12/15, Pérdida Media de Entrenamiento: 0.0220\n"
          ]
        },
        {
          "output_type": "stream",
          "name": "stderr",
          "text": [
            "\n",
            "Epoch 13/15 (Train): 100%|██████████| 16/16 [00:12<00:00,  1.24it/s]"
          ]
        },
        {
          "output_type": "stream",
          "name": "stdout",
          "text": [
            "Epoch 13/15, Pérdida Media de Entrenamiento: 0.0217\n"
          ]
        },
        {
          "output_type": "stream",
          "name": "stderr",
          "text": [
            "\n",
            "Epoch 14/15 (Train): 100%|██████████| 16/16 [00:13<00:00,  1.23it/s]"
          ]
        },
        {
          "output_type": "stream",
          "name": "stdout",
          "text": [
            "Epoch 14/15, Pérdida Media de Entrenamiento: 0.0223\n"
          ]
        },
        {
          "output_type": "stream",
          "name": "stderr",
          "text": [
            "\n",
            "Epoch 15/15 (Train): 100%|██████████| 16/16 [00:12<00:00,  1.23it/s]"
          ]
        },
        {
          "output_type": "stream",
          "name": "stdout",
          "text": [
            "Epoch 15/15, Pérdida Media de Entrenamiento: 0.0218\n",
            "Gráfica de pérdida de entrenamiento guardada en: reports/vit_mae/plots/training_loss_wood.png\n",
            "\n",
            "Evaluando en el conjunto de test para la categoría: wood (puntuación por instancia)...\n"
          ]
        },
        {
          "output_type": "stream",
          "name": "stderr",
          "text": [
            "\n",
            "Evaluando Instancias: 100%|██████████| 79/79 [00:04<00:00, 18.01it/s]"
          ]
        },
        {
          "output_type": "stream",
          "name": "stdout",
          "text": [
            "\n",
            "Resultados para la categoría: wood\n",
            "ROC AUC a Nivel de Imagen: 0.8842\n"
          ]
        },
        {
          "output_type": "stream",
          "name": "stderr",
          "text": [
            "\n"
          ]
        },
        {
          "output_type": "stream",
          "name": "stdout",
          "text": [
            "Gráfica de curva ROC guardada en: reports/vit_mae/plots/roc_curve_wood.png\n",
            "Modelo fine-tuned guardado en reports/vit_mae/trained_models/vit_mae_finetuned_wood.pth\n",
            "\n",
            "==================== PROCESANDO CATEGORÍA: LEATHER ====================\n",
            "Usando dispositivo: cuda\n"
          ]
        },
        {
          "output_type": "stream",
          "name": "stderr",
          "text": [
            "Fast image processor class <class 'transformers.models.vit.image_processing_vit_fast.ViTImageProcessorFast'> is available for this model. Using slow image processor class. To use the fast image processor class set `use_fast=True`.\n"
          ]
        },
        {
          "output_type": "stream",
          "name": "stdout",
          "text": [
            "\n",
            "Iniciando fine-tuning para la categoría: leather...\n"
          ]
        },
        {
          "output_type": "stream",
          "name": "stderr",
          "text": [
            "Epoch 1/15 (Train): 100%|██████████| 16/16 [00:11<00:00,  1.42it/s]"
          ]
        },
        {
          "output_type": "stream",
          "name": "stdout",
          "text": [
            "Epoch 1/15, Pérdida Media de Entrenamiento: 0.0099\n"
          ]
        },
        {
          "output_type": "stream",
          "name": "stderr",
          "text": [
            "\n",
            "Epoch 2/15 (Train): 100%|██████████| 16/16 [00:10<00:00,  1.46it/s]"
          ]
        },
        {
          "output_type": "stream",
          "name": "stdout",
          "text": [
            "Epoch 2/15, Pérdida Media de Entrenamiento: 0.0097\n"
          ]
        },
        {
          "output_type": "stream",
          "name": "stderr",
          "text": [
            "\n",
            "Epoch 3/15 (Train): 100%|██████████| 16/16 [00:11<00:00,  1.40it/s]"
          ]
        },
        {
          "output_type": "stream",
          "name": "stdout",
          "text": [
            "Epoch 3/15, Pérdida Media de Entrenamiento: 0.0098\n"
          ]
        },
        {
          "output_type": "stream",
          "name": "stderr",
          "text": [
            "\n",
            "Epoch 4/15 (Train): 100%|██████████| 16/16 [00:11<00:00,  1.41it/s]"
          ]
        },
        {
          "output_type": "stream",
          "name": "stdout",
          "text": [
            "Epoch 4/15, Pérdida Media de Entrenamiento: 0.0096\n"
          ]
        },
        {
          "output_type": "stream",
          "name": "stderr",
          "text": [
            "\n",
            "Epoch 5/15 (Train): 100%|██████████| 16/16 [00:11<00:00,  1.36it/s]"
          ]
        },
        {
          "output_type": "stream",
          "name": "stdout",
          "text": [
            "Epoch 5/15, Pérdida Media de Entrenamiento: 0.0098\n"
          ]
        },
        {
          "output_type": "stream",
          "name": "stderr",
          "text": [
            "\n",
            "Epoch 6/15 (Train): 100%|██████████| 16/16 [00:11<00:00,  1.41it/s]"
          ]
        },
        {
          "output_type": "stream",
          "name": "stdout",
          "text": [
            "Epoch 6/15, Pérdida Media de Entrenamiento: 0.0094\n"
          ]
        },
        {
          "output_type": "stream",
          "name": "stderr",
          "text": [
            "\n",
            "Epoch 7/15 (Train): 100%|██████████| 16/16 [00:11<00:00,  1.40it/s]"
          ]
        },
        {
          "output_type": "stream",
          "name": "stdout",
          "text": [
            "Epoch 7/15, Pérdida Media de Entrenamiento: 0.0096\n"
          ]
        },
        {
          "output_type": "stream",
          "name": "stderr",
          "text": [
            "\n",
            "Epoch 8/15 (Train): 100%|██████████| 16/16 [00:11<00:00,  1.41it/s]"
          ]
        },
        {
          "output_type": "stream",
          "name": "stdout",
          "text": [
            "Epoch 8/15, Pérdida Media de Entrenamiento: 0.0094\n"
          ]
        },
        {
          "output_type": "stream",
          "name": "stderr",
          "text": [
            "\n",
            "Epoch 9/15 (Train): 100%|██████████| 16/16 [00:10<00:00,  1.48it/s]"
          ]
        },
        {
          "output_type": "stream",
          "name": "stdout",
          "text": [
            "Epoch 9/15, Pérdida Media de Entrenamiento: 0.0095\n"
          ]
        },
        {
          "output_type": "stream",
          "name": "stderr",
          "text": [
            "\n",
            "Epoch 10/15 (Train): 100%|██████████| 16/16 [00:11<00:00,  1.45it/s]"
          ]
        },
        {
          "output_type": "stream",
          "name": "stdout",
          "text": [
            "Epoch 10/15, Pérdida Media de Entrenamiento: 0.0096\n"
          ]
        },
        {
          "output_type": "stream",
          "name": "stderr",
          "text": [
            "\n",
            "Epoch 11/15 (Train): 100%|██████████| 16/16 [00:11<00:00,  1.39it/s]"
          ]
        },
        {
          "output_type": "stream",
          "name": "stdout",
          "text": [
            "Epoch 11/15, Pérdida Media de Entrenamiento: 0.0094\n"
          ]
        },
        {
          "output_type": "stream",
          "name": "stderr",
          "text": [
            "\n",
            "Epoch 12/15 (Train): 100%|██████████| 16/16 [00:11<00:00,  1.39it/s]"
          ]
        },
        {
          "output_type": "stream",
          "name": "stdout",
          "text": [
            "Epoch 12/15, Pérdida Media de Entrenamiento: 0.0097\n"
          ]
        },
        {
          "output_type": "stream",
          "name": "stderr",
          "text": [
            "\n",
            "Epoch 13/15 (Train): 100%|██████████| 16/16 [00:11<00:00,  1.36it/s]"
          ]
        },
        {
          "output_type": "stream",
          "name": "stdout",
          "text": [
            "Epoch 13/15, Pérdida Media de Entrenamiento: 0.0094\n"
          ]
        },
        {
          "output_type": "stream",
          "name": "stderr",
          "text": [
            "\n",
            "Epoch 14/15 (Train): 100%|██████████| 16/16 [00:11<00:00,  1.39it/s]"
          ]
        },
        {
          "output_type": "stream",
          "name": "stdout",
          "text": [
            "Epoch 14/15, Pérdida Media de Entrenamiento: 0.0095\n"
          ]
        },
        {
          "output_type": "stream",
          "name": "stderr",
          "text": [
            "\n",
            "Epoch 15/15 (Train): 100%|██████████| 16/16 [00:11<00:00,  1.38it/s]"
          ]
        },
        {
          "output_type": "stream",
          "name": "stdout",
          "text": [
            "Epoch 15/15, Pérdida Media de Entrenamiento: 0.0095\n"
          ]
        },
        {
          "output_type": "stream",
          "name": "stderr",
          "text": [
            "\n"
          ]
        },
        {
          "output_type": "stream",
          "name": "stdout",
          "text": [
            "Gráfica de pérdida de entrenamiento guardada en: reports/vit_mae/plots/training_loss_leather.png\n",
            "\n",
            "Evaluando en el conjunto de test para la categoría: leather (puntuación por instancia)...\n"
          ]
        },
        {
          "output_type": "stream",
          "name": "stderr",
          "text": [
            "Evaluando Instancias: 100%|██████████| 124/124 [00:06<00:00, 18.75it/s]"
          ]
        },
        {
          "output_type": "stream",
          "name": "stdout",
          "text": [
            "\n",
            "Resultados para la categoría: leather\n",
            "ROC AUC a Nivel de Imagen: 0.4314\n"
          ]
        },
        {
          "output_type": "stream",
          "name": "stderr",
          "text": [
            "\n"
          ]
        },
        {
          "output_type": "stream",
          "name": "stdout",
          "text": [
            "Gráfica de curva ROC guardada en: reports/vit_mae/plots/roc_curve_leather.png\n",
            "Modelo fine-tuned guardado en reports/vit_mae/trained_models/vit_mae_finetuned_leather.pth\n",
            "\n",
            "\n",
            "{'='*30} RESUMEN FINAL DE ROC AUC POR CATEGORÍA {'='*30}\n",
            "Categoría: bottle          | ROC AUC: 0.7913\n",
            "Categoría: carpet          | ROC AUC: 0.4872\n",
            "Categoría: grid            | ROC AUC: 0.9081\n",
            "Categoría: wood            | ROC AUC: 0.8842\n",
            "Categoría: leather         | ROC AUC: 0.4314\n",
            "\n",
            "ROC AUC Promedio (sobre categorías exitosas): 0.7004\n"
          ]
        }
      ],
      "source": [
        "def run_vit_mae_anomaly_detection(data_path, category, reports_dir='reports/vit_mae/', num_epochs=10, batch_size_train=8, lr=2e-5):\n",
        "    \"\"\"\n",
        "    Fine-tunes un modelo ViT MAE para detección de anomalías en una categoría específica de MVTec AD.\n",
        "    \"\"\"\n",
        "    device = torch.device(\"cuda\" if torch.cuda.is_available() else \"mps\" if torch.backends.mps.is_available() else \"cpu\")\n",
        "    print(f\"Usando dispositivo: {device}\")\n",
        "    sys.stdout.flush()\n",
        "\n",
        "    # Crear subdirectorio para gráficas si no existe\n",
        "    plots_dir = os.path.join(reports_dir, \"plots\")\n",
        "    os.makedirs(plots_dir, exist_ok=True)\n",
        "\n",
        "    # 1. Cargar Procesador y Modelo\n",
        "    model_checkpoint = \"facebook/vit-mae-base\"\n",
        "    try:\n",
        "        image_processor = AutoImageProcessor.from_pretrained(model_checkpoint)\n",
        "        model = ViTMAEForPreTraining.from_pretrained(model_checkpoint)\n",
        "        model.to(device)\n",
        "    except Exception as e:\n",
        "        print(f\"Error cargando modelo o procesador: {e}\", file=sys.stderr)\n",
        "        return None\n",
        "\n",
        "    # 2. Preparar Datos\n",
        "    img_size = 224\n",
        "\n",
        "    train_transform = transforms.Compose([\n",
        "        transforms.Resize((img_size, img_size)),\n",
        "        transforms.RandomHorizontalFlip(),\n",
        "        transforms.ColorJitter(brightness=0.1, contrast=0.1, saturation=0.1, hue=0.1),\n",
        "        transforms.ToTensor(),\n",
        "        transforms.Normalize(mean=image_processor.image_mean, std=image_processor.image_std),\n",
        "    ])\n",
        "    test_transform = transforms.Compose([ # Sin augmentation para test\n",
        "        transforms.Resize((img_size, img_size)),\n",
        "        transforms.ToTensor(),\n",
        "        transforms.Normalize(mean=image_processor.image_mean, std=image_processor.image_std),\n",
        "    ])\n",
        "\n",
        "    train_dataset = MVTecDataset(root_path=data_path, category=category, is_train=True, transform=train_transform)\n",
        "    if len(train_dataset) == 0:\n",
        "        print(f\"No se encontraron imágenes de entrenamiento para la categoría {category}. Omitiendo.\", file=sys.stderr)\n",
        "        return None\n",
        "\n",
        "    test_dataset = MVTecDataset(root_path=data_path, category=category, is_train=False, transform=test_transform)\n",
        "    if len(test_dataset) == 0:\n",
        "        print(f\"No se encontraron imágenes de test para la categoría {category}. Omitiendo.\", file=sys.stderr)\n",
        "        return None\n",
        "\n",
        "    train_loader = DataLoader(train_dataset, batch_size=batch_size_train, shuffle=True, num_workers=2, pin_memory=True)\n",
        "    # Para evaluación, batch_size=1 para obtener la pérdida por instancia de ViTMAEForPreTraining\n",
        "    test_loader_per_instance = DataLoader(test_dataset, batch_size=1, shuffle=False, num_workers=2, pin_memory=True)\n",
        "\n",
        "    # 3. Fine-tuning (Entrenamiento)\n",
        "    optimizer = optim.AdamW(model.parameters(), lr=lr, weight_decay=1e-5)\n",
        "    scheduler = optim.lr_scheduler.CosineAnnealingLR(optimizer, T_max=num_epochs, eta_min=lr/100)\n",
        "\n",
        "    train_losses_history = [] # Para almacenar la pérdida de cada época\n",
        "\n",
        "    print(f\"\\nIniciando fine-tuning para la categoría: {category}...\")\n",
        "    sys.stdout.flush()\n",
        "    for epoch in range(num_epochs):\n",
        "        model.train()\n",
        "        epoch_loss = 0.0\n",
        "        for images, _, _ in tqdm(train_loader, desc=f\"Epoch {epoch+1}/{num_epochs} (Train)\"):\n",
        "            images = images.to(device)\n",
        "            optimizer.zero_grad()\n",
        "            outputs = model(images)\n",
        "            loss = outputs.loss\n",
        "            loss.backward()\n",
        "            optimizer.step()\n",
        "            epoch_loss += loss.item()\n",
        "\n",
        "        scheduler.step()\n",
        "        avg_epoch_loss = epoch_loss / len(train_loader)\n",
        "        train_losses_history.append(avg_epoch_loss)\n",
        "        print(f\"Epoch {epoch+1}/{num_epochs}, Pérdida Media de Entrenamiento: {avg_epoch_loss:.4f}\")\n",
        "        sys.stdout.flush()\n",
        "\n",
        "    # Guardar gráfica de pérdida de entrenamiento\n",
        "    plt.figure(figsize=(10, 6))\n",
        "    plt.plot(range(1, num_epochs + 1), train_losses_history, marker='o', linestyle='-')\n",
        "    plt.title(f'Pérdida de Entrenamiento por Época - Categoría: {category}')\n",
        "    plt.xlabel('Época')\n",
        "    plt.ylabel('Pérdida Media de Entrenamiento')\n",
        "    plt.grid(True)\n",
        "    loss_plot_path = os.path.join(plots_dir, f'training_loss_{category}.png')\n",
        "    plt.savefig(loss_plot_path)\n",
        "    plt.close()\n",
        "    print(f\"Gráfica de pérdida de entrenamiento guardada en: {loss_plot_path}\")\n",
        "    sys.stdout.flush()\n",
        "\n",
        "    # 4. Evaluación (Puntuación de Anomalía)\n",
        "    model.eval()\n",
        "    all_labels = []\n",
        "    all_scores = []\n",
        "\n",
        "    print(f\"\\nEvaluando en el conjunto de test para la categoría: {category} (puntuación por instancia)...\")\n",
        "    sys.stdout.flush()\n",
        "    with torch.no_grad():\n",
        "        for images, labels_batch, _ in tqdm(test_loader_per_instance, desc=\"Evaluando Instancias\"):\n",
        "            images = images.to(device)\n",
        "            outputs = model(images)\n",
        "            loss_val = outputs.loss.item()\n",
        "            all_scores.append(loss_val)\n",
        "            if isinstance(labels_batch, torch.Tensor):\n",
        "                all_labels.extend(labels_batch.cpu().numpy())\n",
        "            else:\n",
        "                all_labels.extend(np.array([labels_batch]))\n",
        "\n",
        "    if not all_labels or not all_scores:\n",
        "        print(f\"No se pudieron recolectar datos para la evaluación de {category}. Omitiendo AUC.\", file=sys.stderr)\n",
        "        return None\n",
        "\n",
        "    all_labels_np = np.array(all_labels).astype(int)\n",
        "    if len(np.unique(all_labels_np)) < 2 : # Chequeo si hay al menos dos clases para AUC\n",
        "        print(f\"No hay suficientes clases únicas en las etiquetas para calcular AUC para {category} (Etiquetas: {np.unique(all_labels_np)}). Omitiendo AUC.\", file=sys.stderr)\n",
        "        return None\n",
        "\n",
        "    # Calcular ROC AUC (Nivel de Imagen)\n",
        "    try:\n",
        "        roc_auc = roc_auc_score(all_labels, all_scores)\n",
        "        print(f\"\\nResultados para la categoría: {category}\")\n",
        "        print(f\"ROC AUC a Nivel de Imagen: {roc_auc:.4f}\")\n",
        "        sys.stdout.flush()\n",
        "\n",
        "        # Guardar curva ROC\n",
        "        fpr, tpr, _ = roc_curve(all_labels_np, all_scores)\n",
        "        plt.figure(figsize=(8, 6))\n",
        "        plt.plot(fpr, tpr, color='darkorange', lw=2, label=f'Curva ROC (AUC = {roc_auc:.2f})')\n",
        "        plt.plot([0, 1], [0, 1], color='navy', lw=2, linestyle='--')\n",
        "        plt.xlim([0.0, 1.0])\n",
        "        plt.ylim([0.0, 1.05])\n",
        "        plt.xlabel('Tasa de Falsos Positivos (FPR)')\n",
        "        plt.ylabel('Tasa de Verdaderos Positivos (TPR)')\n",
        "        plt.title(f'Curva ROC - Categoría: {category}')\n",
        "        plt.legend(loc=\"lower right\")\n",
        "        roc_plot_path = os.path.join(plots_dir, f'roc_curve_{category}.png')\n",
        "        plt.savefig(roc_plot_path)\n",
        "        plt.close()\n",
        "        print(f\"Gráfica de curva ROC guardada en: {roc_plot_path}\")\n",
        "\n",
        "    except ValueError as e:\n",
        "        print(f\"No se pudo calcular ROC AUC para {category}: {e}. Etiquetas únicas: {np.unique(all_labels_np)}\", file=sys.stderr)\n",
        "        return None # Retorna None si hay error en AUC\n",
        "\n",
        "    # Guardar el modelo fine-tuned\n",
        "    model_save_dir = os.path.join(reports_dir, \"trained_models\")\n",
        "    os.makedirs(model_save_dir, exist_ok=True)\n",
        "    model_save_path = os.path.join(model_save_dir, f\"vit_mae_finetuned_{category}.pth\")\n",
        "    torch.save(model.state_dict(), model_save_path)\n",
        "    print(f\"Modelo fine-tuned guardado en {model_save_path}\")\n",
        "\n",
        "    return roc_auc\n",
        "\n",
        "\n",
        "# --- Ejecución Principal ---\n",
        "if __name__ == \"__main__\":\n",
        "    MVTEC_AD_PATH = 'data/'\n",
        "\n",
        "    if not os.path.exists(MVTEC_AD_PATH) or not os.listdir(MVTEC_AD_PATH):\n",
        "        print(f\"Error: El directorio del dataset MVTec AD '{MVTEC_AD_PATH}' no existe o está vacío.\", file=sys.stderr)\n",
        "        print(\"Por favor, descarga el dataset MVTec AD y actualiza la variable MVTEC_AD_PATH.\", file=sys.stderr)\n",
        "        sys.exit(1)\n",
        "\n",
        "    # Categorías a procesar\n",
        "    categories_to_run = [\"bottle\", \"carpet\",\"grid\",\"wood\",\"leather\"] # Un subconjunto para una prueba rápida\n",
        "\n",
        "    all_category_results = {}\n",
        "    num_epochs_main = 15\n",
        "    learning_rate_main = 1e-5\n",
        "    batch_size_training_main = 16\n",
        "\n",
        "    for cat_name in categories_to_run:\n",
        "        print(f\"\\n{'='*20} PROCESANDO CATEGORÍA: {cat_name.upper()} {'='*20}\")\n",
        "        sys.stdout.flush()\n",
        "\n",
        "        # Verificar si el directorio de la categoría existe\n",
        "        category_dir_check = os.path.join(MVTEC_AD_PATH, cat_name)\n",
        "        if not os.path.exists(category_dir_check):\n",
        "            print(f\"Directorio para la categoría '{cat_name}' no encontrado en '{category_dir_check}'. Omitiendo.\", file=sys.stderr)\n",
        "            continue\n",
        "\n",
        "        auc = run_vit_mae_anomaly_detection(\n",
        "            data_path=MVTEC_AD_PATH,\n",
        "            category=cat_name,\n",
        "            num_epochs=num_epochs_main,\n",
        "            batch_size_train=batch_size_training_main,\n",
        "            lr=learning_rate_main\n",
        "        )\n",
        "        if auc is not None:\n",
        "            all_category_results[cat_name] = auc\n",
        "        sys.stdout.flush()\n",
        "\n",
        "\n",
        "    print(\"\\n\\n{'='*30} RESUMEN FINAL DE ROC AUC POR CATEGORÍA {'='*30}\")\n",
        "    if all_category_results:\n",
        "        for cat_name, auc_score in all_category_results.items():\n",
        "            print(f\"Categoría: {cat_name:<15} | ROC AUC: {auc_score:.4f}\")\n",
        "\n",
        "        valid_auc_scores = [score for score in all_category_results.values() if score is not None]\n",
        "        if valid_auc_scores:\n",
        "            avg_auc = np.mean(valid_auc_scores)\n",
        "            print(f\"\\nROC AUC Promedio (sobre categorías exitosas): {avg_auc:.4f}\")\n",
        "        else:\n",
        "            print(\"\\nNo se pudieron calcular puntuaciones AUC válidas.\")\n",
        "    else:\n",
        "        print(\"No se generaron resultados para ninguna categoría.\")\n",
        "    sys.stdout.flush()"
      ]
    }
  ],
  "metadata": {
    "accelerator": "GPU",
    "colab": {
      "gpuType": "T4",
      "provenance": []
    },
    "kernelspec": {
      "display_name": "Python 3",
      "name": "python3"
    },
    "language_info": {
      "codemirror_mode": {
        "name": "ipython",
        "version": 3
      },
      "file_extension": ".py",
      "mimetype": "text/x-python",
      "name": "python",
      "nbconvert_exporter": "python",
      "pygments_lexer": "ipython3",
      "version": "3.10.13"
    },
    "widgets": {
      "application/vnd.jupyter.widget-state+json": {
        "9c1d8ee3d1fc45efa773ca6ff17aa20d": {
          "model_module": "@jupyter-widgets/controls",
          "model_name": "HBoxModel",
          "model_module_version": "1.5.0",
          "state": {
            "_dom_classes": [],
            "_model_module": "@jupyter-widgets/controls",
            "_model_module_version": "1.5.0",
            "_model_name": "HBoxModel",
            "_view_count": null,
            "_view_module": "@jupyter-widgets/controls",
            "_view_module_version": "1.5.0",
            "_view_name": "HBoxView",
            "box_style": "",
            "children": [
              "IPY_MODEL_7bc64a7776f440cf85cce289ad0f0648",
              "IPY_MODEL_bc20582c8c884f00b4a31b0335cd963c",
              "IPY_MODEL_f5d5e75f7098436a982c445a184ef196"
            ],
            "layout": "IPY_MODEL_a5b06f4b25014efd85495f8c3d41ba5b"
          }
        },
        "7bc64a7776f440cf85cce289ad0f0648": {
          "model_module": "@jupyter-widgets/controls",
          "model_name": "HTMLModel",
          "model_module_version": "1.5.0",
          "state": {
            "_dom_classes": [],
            "_model_module": "@jupyter-widgets/controls",
            "_model_module_version": "1.5.0",
            "_model_name": "HTMLModel",
            "_view_count": null,
            "_view_module": "@jupyter-widgets/controls",
            "_view_module_version": "1.5.0",
            "_view_name": "HTMLView",
            "description": "",
            "description_tooltip": null,
            "layout": "IPY_MODEL_c5142f4bcca842da8f54fff156e57f56",
            "placeholder": "​",
            "style": "IPY_MODEL_d59e4da4b9a04e0086fb0605efbefdb4",
            "value": "preprocessor_config.json: 100%"
          }
        },
        "bc20582c8c884f00b4a31b0335cd963c": {
          "model_module": "@jupyter-widgets/controls",
          "model_name": "FloatProgressModel",
          "model_module_version": "1.5.0",
          "state": {
            "_dom_classes": [],
            "_model_module": "@jupyter-widgets/controls",
            "_model_module_version": "1.5.0",
            "_model_name": "FloatProgressModel",
            "_view_count": null,
            "_view_module": "@jupyter-widgets/controls",
            "_view_module_version": "1.5.0",
            "_view_name": "ProgressView",
            "bar_style": "success",
            "description": "",
            "description_tooltip": null,
            "layout": "IPY_MODEL_7c23776dd56d45709ea9284aceb9d67c",
            "max": 217,
            "min": 0,
            "orientation": "horizontal",
            "style": "IPY_MODEL_f9839eb606e14514889302e556ca1f22",
            "value": 217
          }
        },
        "f5d5e75f7098436a982c445a184ef196": {
          "model_module": "@jupyter-widgets/controls",
          "model_name": "HTMLModel",
          "model_module_version": "1.5.0",
          "state": {
            "_dom_classes": [],
            "_model_module": "@jupyter-widgets/controls",
            "_model_module_version": "1.5.0",
            "_model_name": "HTMLModel",
            "_view_count": null,
            "_view_module": "@jupyter-widgets/controls",
            "_view_module_version": "1.5.0",
            "_view_name": "HTMLView",
            "description": "",
            "description_tooltip": null,
            "layout": "IPY_MODEL_66cf8451fae0439c90167ec94da97641",
            "placeholder": "​",
            "style": "IPY_MODEL_65c1393e93fa4f83a54666c475e17030",
            "value": " 217/217 [00:00&lt;00:00, 16.9kB/s]"
          }
        },
        "a5b06f4b25014efd85495f8c3d41ba5b": {
          "model_module": "@jupyter-widgets/base",
          "model_name": "LayoutModel",
          "model_module_version": "1.2.0",
          "state": {
            "_model_module": "@jupyter-widgets/base",
            "_model_module_version": "1.2.0",
            "_model_name": "LayoutModel",
            "_view_count": null,
            "_view_module": "@jupyter-widgets/base",
            "_view_module_version": "1.2.0",
            "_view_name": "LayoutView",
            "align_content": null,
            "align_items": null,
            "align_self": null,
            "border": null,
            "bottom": null,
            "display": null,
            "flex": null,
            "flex_flow": null,
            "grid_area": null,
            "grid_auto_columns": null,
            "grid_auto_flow": null,
            "grid_auto_rows": null,
            "grid_column": null,
            "grid_gap": null,
            "grid_row": null,
            "grid_template_areas": null,
            "grid_template_columns": null,
            "grid_template_rows": null,
            "height": null,
            "justify_content": null,
            "justify_items": null,
            "left": null,
            "margin": null,
            "max_height": null,
            "max_width": null,
            "min_height": null,
            "min_width": null,
            "object_fit": null,
            "object_position": null,
            "order": null,
            "overflow": null,
            "overflow_x": null,
            "overflow_y": null,
            "padding": null,
            "right": null,
            "top": null,
            "visibility": null,
            "width": null
          }
        },
        "c5142f4bcca842da8f54fff156e57f56": {
          "model_module": "@jupyter-widgets/base",
          "model_name": "LayoutModel",
          "model_module_version": "1.2.0",
          "state": {
            "_model_module": "@jupyter-widgets/base",
            "_model_module_version": "1.2.0",
            "_model_name": "LayoutModel",
            "_view_count": null,
            "_view_module": "@jupyter-widgets/base",
            "_view_module_version": "1.2.0",
            "_view_name": "LayoutView",
            "align_content": null,
            "align_items": null,
            "align_self": null,
            "border": null,
            "bottom": null,
            "display": null,
            "flex": null,
            "flex_flow": null,
            "grid_area": null,
            "grid_auto_columns": null,
            "grid_auto_flow": null,
            "grid_auto_rows": null,
            "grid_column": null,
            "grid_gap": null,
            "grid_row": null,
            "grid_template_areas": null,
            "grid_template_columns": null,
            "grid_template_rows": null,
            "height": null,
            "justify_content": null,
            "justify_items": null,
            "left": null,
            "margin": null,
            "max_height": null,
            "max_width": null,
            "min_height": null,
            "min_width": null,
            "object_fit": null,
            "object_position": null,
            "order": null,
            "overflow": null,
            "overflow_x": null,
            "overflow_y": null,
            "padding": null,
            "right": null,
            "top": null,
            "visibility": null,
            "width": null
          }
        },
        "d59e4da4b9a04e0086fb0605efbefdb4": {
          "model_module": "@jupyter-widgets/controls",
          "model_name": "DescriptionStyleModel",
          "model_module_version": "1.5.0",
          "state": {
            "_model_module": "@jupyter-widgets/controls",
            "_model_module_version": "1.5.0",
            "_model_name": "DescriptionStyleModel",
            "_view_count": null,
            "_view_module": "@jupyter-widgets/base",
            "_view_module_version": "1.2.0",
            "_view_name": "StyleView",
            "description_width": ""
          }
        },
        "7c23776dd56d45709ea9284aceb9d67c": {
          "model_module": "@jupyter-widgets/base",
          "model_name": "LayoutModel",
          "model_module_version": "1.2.0",
          "state": {
            "_model_module": "@jupyter-widgets/base",
            "_model_module_version": "1.2.0",
            "_model_name": "LayoutModel",
            "_view_count": null,
            "_view_module": "@jupyter-widgets/base",
            "_view_module_version": "1.2.0",
            "_view_name": "LayoutView",
            "align_content": null,
            "align_items": null,
            "align_self": null,
            "border": null,
            "bottom": null,
            "display": null,
            "flex": null,
            "flex_flow": null,
            "grid_area": null,
            "grid_auto_columns": null,
            "grid_auto_flow": null,
            "grid_auto_rows": null,
            "grid_column": null,
            "grid_gap": null,
            "grid_row": null,
            "grid_template_areas": null,
            "grid_template_columns": null,
            "grid_template_rows": null,
            "height": null,
            "justify_content": null,
            "justify_items": null,
            "left": null,
            "margin": null,
            "max_height": null,
            "max_width": null,
            "min_height": null,
            "min_width": null,
            "object_fit": null,
            "object_position": null,
            "order": null,
            "overflow": null,
            "overflow_x": null,
            "overflow_y": null,
            "padding": null,
            "right": null,
            "top": null,
            "visibility": null,
            "width": null
          }
        },
        "f9839eb606e14514889302e556ca1f22": {
          "model_module": "@jupyter-widgets/controls",
          "model_name": "ProgressStyleModel",
          "model_module_version": "1.5.0",
          "state": {
            "_model_module": "@jupyter-widgets/controls",
            "_model_module_version": "1.5.0",
            "_model_name": "ProgressStyleModel",
            "_view_count": null,
            "_view_module": "@jupyter-widgets/base",
            "_view_module_version": "1.2.0",
            "_view_name": "StyleView",
            "bar_color": null,
            "description_width": ""
          }
        },
        "66cf8451fae0439c90167ec94da97641": {
          "model_module": "@jupyter-widgets/base",
          "model_name": "LayoutModel",
          "model_module_version": "1.2.0",
          "state": {
            "_model_module": "@jupyter-widgets/base",
            "_model_module_version": "1.2.0",
            "_model_name": "LayoutModel",
            "_view_count": null,
            "_view_module": "@jupyter-widgets/base",
            "_view_module_version": "1.2.0",
            "_view_name": "LayoutView",
            "align_content": null,
            "align_items": null,
            "align_self": null,
            "border": null,
            "bottom": null,
            "display": null,
            "flex": null,
            "flex_flow": null,
            "grid_area": null,
            "grid_auto_columns": null,
            "grid_auto_flow": null,
            "grid_auto_rows": null,
            "grid_column": null,
            "grid_gap": null,
            "grid_row": null,
            "grid_template_areas": null,
            "grid_template_columns": null,
            "grid_template_rows": null,
            "height": null,
            "justify_content": null,
            "justify_items": null,
            "left": null,
            "margin": null,
            "max_height": null,
            "max_width": null,
            "min_height": null,
            "min_width": null,
            "object_fit": null,
            "object_position": null,
            "order": null,
            "overflow": null,
            "overflow_x": null,
            "overflow_y": null,
            "padding": null,
            "right": null,
            "top": null,
            "visibility": null,
            "width": null
          }
        },
        "65c1393e93fa4f83a54666c475e17030": {
          "model_module": "@jupyter-widgets/controls",
          "model_name": "DescriptionStyleModel",
          "model_module_version": "1.5.0",
          "state": {
            "_model_module": "@jupyter-widgets/controls",
            "_model_module_version": "1.5.0",
            "_model_name": "DescriptionStyleModel",
            "_view_count": null,
            "_view_module": "@jupyter-widgets/base",
            "_view_module_version": "1.2.0",
            "_view_name": "StyleView",
            "description_width": ""
          }
        },
        "429ba5da222245a68fe8bf6748a3a101": {
          "model_module": "@jupyter-widgets/controls",
          "model_name": "HBoxModel",
          "model_module_version": "1.5.0",
          "state": {
            "_dom_classes": [],
            "_model_module": "@jupyter-widgets/controls",
            "_model_module_version": "1.5.0",
            "_model_name": "HBoxModel",
            "_view_count": null,
            "_view_module": "@jupyter-widgets/controls",
            "_view_module_version": "1.5.0",
            "_view_name": "HBoxView",
            "box_style": "",
            "children": [
              "IPY_MODEL_6788071c000d42f2964f5a5aff07a054",
              "IPY_MODEL_e17603f7420a457ca5906b6a9277ee70",
              "IPY_MODEL_c27691c2573a49afa49ca8ffffcff3f0"
            ],
            "layout": "IPY_MODEL_a36936ec87ef4637b4ba6330fef0999a"
          }
        },
        "6788071c000d42f2964f5a5aff07a054": {
          "model_module": "@jupyter-widgets/controls",
          "model_name": "HTMLModel",
          "model_module_version": "1.5.0",
          "state": {
            "_dom_classes": [],
            "_model_module": "@jupyter-widgets/controls",
            "_model_module_version": "1.5.0",
            "_model_name": "HTMLModel",
            "_view_count": null,
            "_view_module": "@jupyter-widgets/controls",
            "_view_module_version": "1.5.0",
            "_view_name": "HTMLView",
            "description": "",
            "description_tooltip": null,
            "layout": "IPY_MODEL_0cc410964e3f438d83bc90cb35e7e2fd",
            "placeholder": "​",
            "style": "IPY_MODEL_743d8a60ba5945fbb9a57690ac8fd9dc",
            "value": "config.json: 100%"
          }
        },
        "e17603f7420a457ca5906b6a9277ee70": {
          "model_module": "@jupyter-widgets/controls",
          "model_name": "FloatProgressModel",
          "model_module_version": "1.5.0",
          "state": {
            "_dom_classes": [],
            "_model_module": "@jupyter-widgets/controls",
            "_model_module_version": "1.5.0",
            "_model_name": "FloatProgressModel",
            "_view_count": null,
            "_view_module": "@jupyter-widgets/controls",
            "_view_module_version": "1.5.0",
            "_view_name": "ProgressView",
            "bar_style": "success",
            "description": "",
            "description_tooltip": null,
            "layout": "IPY_MODEL_b63de7331b1442a89f337fbc587540f9",
            "max": 676,
            "min": 0,
            "orientation": "horizontal",
            "style": "IPY_MODEL_c67f9273d61f40ae854acd7f8c986dd8",
            "value": 676
          }
        },
        "c27691c2573a49afa49ca8ffffcff3f0": {
          "model_module": "@jupyter-widgets/controls",
          "model_name": "HTMLModel",
          "model_module_version": "1.5.0",
          "state": {
            "_dom_classes": [],
            "_model_module": "@jupyter-widgets/controls",
            "_model_module_version": "1.5.0",
            "_model_name": "HTMLModel",
            "_view_count": null,
            "_view_module": "@jupyter-widgets/controls",
            "_view_module_version": "1.5.0",
            "_view_name": "HTMLView",
            "description": "",
            "description_tooltip": null,
            "layout": "IPY_MODEL_2481c40a2a1b4b8d9177b92ac6a2a262",
            "placeholder": "​",
            "style": "IPY_MODEL_6e142426efc545d2b8a2b3e1742cfff6",
            "value": " 676/676 [00:00&lt;00:00, 54.5kB/s]"
          }
        },
        "a36936ec87ef4637b4ba6330fef0999a": {
          "model_module": "@jupyter-widgets/base",
          "model_name": "LayoutModel",
          "model_module_version": "1.2.0",
          "state": {
            "_model_module": "@jupyter-widgets/base",
            "_model_module_version": "1.2.0",
            "_model_name": "LayoutModel",
            "_view_count": null,
            "_view_module": "@jupyter-widgets/base",
            "_view_module_version": "1.2.0",
            "_view_name": "LayoutView",
            "align_content": null,
            "align_items": null,
            "align_self": null,
            "border": null,
            "bottom": null,
            "display": null,
            "flex": null,
            "flex_flow": null,
            "grid_area": null,
            "grid_auto_columns": null,
            "grid_auto_flow": null,
            "grid_auto_rows": null,
            "grid_column": null,
            "grid_gap": null,
            "grid_row": null,
            "grid_template_areas": null,
            "grid_template_columns": null,
            "grid_template_rows": null,
            "height": null,
            "justify_content": null,
            "justify_items": null,
            "left": null,
            "margin": null,
            "max_height": null,
            "max_width": null,
            "min_height": null,
            "min_width": null,
            "object_fit": null,
            "object_position": null,
            "order": null,
            "overflow": null,
            "overflow_x": null,
            "overflow_y": null,
            "padding": null,
            "right": null,
            "top": null,
            "visibility": null,
            "width": null
          }
        },
        "0cc410964e3f438d83bc90cb35e7e2fd": {
          "model_module": "@jupyter-widgets/base",
          "model_name": "LayoutModel",
          "model_module_version": "1.2.0",
          "state": {
            "_model_module": "@jupyter-widgets/base",
            "_model_module_version": "1.2.0",
            "_model_name": "LayoutModel",
            "_view_count": null,
            "_view_module": "@jupyter-widgets/base",
            "_view_module_version": "1.2.0",
            "_view_name": "LayoutView",
            "align_content": null,
            "align_items": null,
            "align_self": null,
            "border": null,
            "bottom": null,
            "display": null,
            "flex": null,
            "flex_flow": null,
            "grid_area": null,
            "grid_auto_columns": null,
            "grid_auto_flow": null,
            "grid_auto_rows": null,
            "grid_column": null,
            "grid_gap": null,
            "grid_row": null,
            "grid_template_areas": null,
            "grid_template_columns": null,
            "grid_template_rows": null,
            "height": null,
            "justify_content": null,
            "justify_items": null,
            "left": null,
            "margin": null,
            "max_height": null,
            "max_width": null,
            "min_height": null,
            "min_width": null,
            "object_fit": null,
            "object_position": null,
            "order": null,
            "overflow": null,
            "overflow_x": null,
            "overflow_y": null,
            "padding": null,
            "right": null,
            "top": null,
            "visibility": null,
            "width": null
          }
        },
        "743d8a60ba5945fbb9a57690ac8fd9dc": {
          "model_module": "@jupyter-widgets/controls",
          "model_name": "DescriptionStyleModel",
          "model_module_version": "1.5.0",
          "state": {
            "_model_module": "@jupyter-widgets/controls",
            "_model_module_version": "1.5.0",
            "_model_name": "DescriptionStyleModel",
            "_view_count": null,
            "_view_module": "@jupyter-widgets/base",
            "_view_module_version": "1.2.0",
            "_view_name": "StyleView",
            "description_width": ""
          }
        },
        "b63de7331b1442a89f337fbc587540f9": {
          "model_module": "@jupyter-widgets/base",
          "model_name": "LayoutModel",
          "model_module_version": "1.2.0",
          "state": {
            "_model_module": "@jupyter-widgets/base",
            "_model_module_version": "1.2.0",
            "_model_name": "LayoutModel",
            "_view_count": null,
            "_view_module": "@jupyter-widgets/base",
            "_view_module_version": "1.2.0",
            "_view_name": "LayoutView",
            "align_content": null,
            "align_items": null,
            "align_self": null,
            "border": null,
            "bottom": null,
            "display": null,
            "flex": null,
            "flex_flow": null,
            "grid_area": null,
            "grid_auto_columns": null,
            "grid_auto_flow": null,
            "grid_auto_rows": null,
            "grid_column": null,
            "grid_gap": null,
            "grid_row": null,
            "grid_template_areas": null,
            "grid_template_columns": null,
            "grid_template_rows": null,
            "height": null,
            "justify_content": null,
            "justify_items": null,
            "left": null,
            "margin": null,
            "max_height": null,
            "max_width": null,
            "min_height": null,
            "min_width": null,
            "object_fit": null,
            "object_position": null,
            "order": null,
            "overflow": null,
            "overflow_x": null,
            "overflow_y": null,
            "padding": null,
            "right": null,
            "top": null,
            "visibility": null,
            "width": null
          }
        },
        "c67f9273d61f40ae854acd7f8c986dd8": {
          "model_module": "@jupyter-widgets/controls",
          "model_name": "ProgressStyleModel",
          "model_module_version": "1.5.0",
          "state": {
            "_model_module": "@jupyter-widgets/controls",
            "_model_module_version": "1.5.0",
            "_model_name": "ProgressStyleModel",
            "_view_count": null,
            "_view_module": "@jupyter-widgets/base",
            "_view_module_version": "1.2.0",
            "_view_name": "StyleView",
            "bar_color": null,
            "description_width": ""
          }
        },
        "2481c40a2a1b4b8d9177b92ac6a2a262": {
          "model_module": "@jupyter-widgets/base",
          "model_name": "LayoutModel",
          "model_module_version": "1.2.0",
          "state": {
            "_model_module": "@jupyter-widgets/base",
            "_model_module_version": "1.2.0",
            "_model_name": "LayoutModel",
            "_view_count": null,
            "_view_module": "@jupyter-widgets/base",
            "_view_module_version": "1.2.0",
            "_view_name": "LayoutView",
            "align_content": null,
            "align_items": null,
            "align_self": null,
            "border": null,
            "bottom": null,
            "display": null,
            "flex": null,
            "flex_flow": null,
            "grid_area": null,
            "grid_auto_columns": null,
            "grid_auto_flow": null,
            "grid_auto_rows": null,
            "grid_column": null,
            "grid_gap": null,
            "grid_row": null,
            "grid_template_areas": null,
            "grid_template_columns": null,
            "grid_template_rows": null,
            "height": null,
            "justify_content": null,
            "justify_items": null,
            "left": null,
            "margin": null,
            "max_height": null,
            "max_width": null,
            "min_height": null,
            "min_width": null,
            "object_fit": null,
            "object_position": null,
            "order": null,
            "overflow": null,
            "overflow_x": null,
            "overflow_y": null,
            "padding": null,
            "right": null,
            "top": null,
            "visibility": null,
            "width": null
          }
        },
        "6e142426efc545d2b8a2b3e1742cfff6": {
          "model_module": "@jupyter-widgets/controls",
          "model_name": "DescriptionStyleModel",
          "model_module_version": "1.5.0",
          "state": {
            "_model_module": "@jupyter-widgets/controls",
            "_model_module_version": "1.5.0",
            "_model_name": "DescriptionStyleModel",
            "_view_count": null,
            "_view_module": "@jupyter-widgets/base",
            "_view_module_version": "1.2.0",
            "_view_name": "StyleView",
            "description_width": ""
          }
        },
        "a4a9c288fe444f3f8410bc78327c170c": {
          "model_module": "@jupyter-widgets/controls",
          "model_name": "HBoxModel",
          "model_module_version": "1.5.0",
          "state": {
            "_dom_classes": [],
            "_model_module": "@jupyter-widgets/controls",
            "_model_module_version": "1.5.0",
            "_model_name": "HBoxModel",
            "_view_count": null,
            "_view_module": "@jupyter-widgets/controls",
            "_view_module_version": "1.5.0",
            "_view_name": "HBoxView",
            "box_style": "",
            "children": [
              "IPY_MODEL_52cc815053b84c2e9cf53beef3018bfe",
              "IPY_MODEL_2d52b54096054929b3cedc2e9d1ad656",
              "IPY_MODEL_4efc60800763411a8e2bf9f59792749d"
            ],
            "layout": "IPY_MODEL_e3a50ae5fa0f475c9fb507f52ff9d9a7"
          }
        },
        "52cc815053b84c2e9cf53beef3018bfe": {
          "model_module": "@jupyter-widgets/controls",
          "model_name": "HTMLModel",
          "model_module_version": "1.5.0",
          "state": {
            "_dom_classes": [],
            "_model_module": "@jupyter-widgets/controls",
            "_model_module_version": "1.5.0",
            "_model_name": "HTMLModel",
            "_view_count": null,
            "_view_module": "@jupyter-widgets/controls",
            "_view_module_version": "1.5.0",
            "_view_name": "HTMLView",
            "description": "",
            "description_tooltip": null,
            "layout": "IPY_MODEL_185dd72317e94248a1ec90717d4db1b0",
            "placeholder": "​",
            "style": "IPY_MODEL_e02ba7636d7e4ce38a2eeffc8bcf6fde",
            "value": "model.safetensors: 100%"
          }
        },
        "2d52b54096054929b3cedc2e9d1ad656": {
          "model_module": "@jupyter-widgets/controls",
          "model_name": "FloatProgressModel",
          "model_module_version": "1.5.0",
          "state": {
            "_dom_classes": [],
            "_model_module": "@jupyter-widgets/controls",
            "_model_module_version": "1.5.0",
            "_model_name": "FloatProgressModel",
            "_view_count": null,
            "_view_module": "@jupyter-widgets/controls",
            "_view_module_version": "1.5.0",
            "_view_name": "ProgressView",
            "bar_style": "success",
            "description": "",
            "description_tooltip": null,
            "layout": "IPY_MODEL_1921b389e9ab4922a8c89c24ae93b7a6",
            "max": 447670680,
            "min": 0,
            "orientation": "horizontal",
            "style": "IPY_MODEL_0727c083b5eb48a993aeef5f48b68f43",
            "value": 447670680
          }
        },
        "4efc60800763411a8e2bf9f59792749d": {
          "model_module": "@jupyter-widgets/controls",
          "model_name": "HTMLModel",
          "model_module_version": "1.5.0",
          "state": {
            "_dom_classes": [],
            "_model_module": "@jupyter-widgets/controls",
            "_model_module_version": "1.5.0",
            "_model_name": "HTMLModel",
            "_view_count": null,
            "_view_module": "@jupyter-widgets/controls",
            "_view_module_version": "1.5.0",
            "_view_name": "HTMLView",
            "description": "",
            "description_tooltip": null,
            "layout": "IPY_MODEL_4492118ac8584e488b081dc3a803be68",
            "placeholder": "​",
            "style": "IPY_MODEL_1bcaf522756b404890804ef12522382c",
            "value": " 448M/448M [00:11&lt;00:00, 52.6MB/s]"
          }
        },
        "e3a50ae5fa0f475c9fb507f52ff9d9a7": {
          "model_module": "@jupyter-widgets/base",
          "model_name": "LayoutModel",
          "model_module_version": "1.2.0",
          "state": {
            "_model_module": "@jupyter-widgets/base",
            "_model_module_version": "1.2.0",
            "_model_name": "LayoutModel",
            "_view_count": null,
            "_view_module": "@jupyter-widgets/base",
            "_view_module_version": "1.2.0",
            "_view_name": "LayoutView",
            "align_content": null,
            "align_items": null,
            "align_self": null,
            "border": null,
            "bottom": null,
            "display": null,
            "flex": null,
            "flex_flow": null,
            "grid_area": null,
            "grid_auto_columns": null,
            "grid_auto_flow": null,
            "grid_auto_rows": null,
            "grid_column": null,
            "grid_gap": null,
            "grid_row": null,
            "grid_template_areas": null,
            "grid_template_columns": null,
            "grid_template_rows": null,
            "height": null,
            "justify_content": null,
            "justify_items": null,
            "left": null,
            "margin": null,
            "max_height": null,
            "max_width": null,
            "min_height": null,
            "min_width": null,
            "object_fit": null,
            "object_position": null,
            "order": null,
            "overflow": null,
            "overflow_x": null,
            "overflow_y": null,
            "padding": null,
            "right": null,
            "top": null,
            "visibility": null,
            "width": null
          }
        },
        "185dd72317e94248a1ec90717d4db1b0": {
          "model_module": "@jupyter-widgets/base",
          "model_name": "LayoutModel",
          "model_module_version": "1.2.0",
          "state": {
            "_model_module": "@jupyter-widgets/base",
            "_model_module_version": "1.2.0",
            "_model_name": "LayoutModel",
            "_view_count": null,
            "_view_module": "@jupyter-widgets/base",
            "_view_module_version": "1.2.0",
            "_view_name": "LayoutView",
            "align_content": null,
            "align_items": null,
            "align_self": null,
            "border": null,
            "bottom": null,
            "display": null,
            "flex": null,
            "flex_flow": null,
            "grid_area": null,
            "grid_auto_columns": null,
            "grid_auto_flow": null,
            "grid_auto_rows": null,
            "grid_column": null,
            "grid_gap": null,
            "grid_row": null,
            "grid_template_areas": null,
            "grid_template_columns": null,
            "grid_template_rows": null,
            "height": null,
            "justify_content": null,
            "justify_items": null,
            "left": null,
            "margin": null,
            "max_height": null,
            "max_width": null,
            "min_height": null,
            "min_width": null,
            "object_fit": null,
            "object_position": null,
            "order": null,
            "overflow": null,
            "overflow_x": null,
            "overflow_y": null,
            "padding": null,
            "right": null,
            "top": null,
            "visibility": null,
            "width": null
          }
        },
        "e02ba7636d7e4ce38a2eeffc8bcf6fde": {
          "model_module": "@jupyter-widgets/controls",
          "model_name": "DescriptionStyleModel",
          "model_module_version": "1.5.0",
          "state": {
            "_model_module": "@jupyter-widgets/controls",
            "_model_module_version": "1.5.0",
            "_model_name": "DescriptionStyleModel",
            "_view_count": null,
            "_view_module": "@jupyter-widgets/base",
            "_view_module_version": "1.2.0",
            "_view_name": "StyleView",
            "description_width": ""
          }
        },
        "1921b389e9ab4922a8c89c24ae93b7a6": {
          "model_module": "@jupyter-widgets/base",
          "model_name": "LayoutModel",
          "model_module_version": "1.2.0",
          "state": {
            "_model_module": "@jupyter-widgets/base",
            "_model_module_version": "1.2.0",
            "_model_name": "LayoutModel",
            "_view_count": null,
            "_view_module": "@jupyter-widgets/base",
            "_view_module_version": "1.2.0",
            "_view_name": "LayoutView",
            "align_content": null,
            "align_items": null,
            "align_self": null,
            "border": null,
            "bottom": null,
            "display": null,
            "flex": null,
            "flex_flow": null,
            "grid_area": null,
            "grid_auto_columns": null,
            "grid_auto_flow": null,
            "grid_auto_rows": null,
            "grid_column": null,
            "grid_gap": null,
            "grid_row": null,
            "grid_template_areas": null,
            "grid_template_columns": null,
            "grid_template_rows": null,
            "height": null,
            "justify_content": null,
            "justify_items": null,
            "left": null,
            "margin": null,
            "max_height": null,
            "max_width": null,
            "min_height": null,
            "min_width": null,
            "object_fit": null,
            "object_position": null,
            "order": null,
            "overflow": null,
            "overflow_x": null,
            "overflow_y": null,
            "padding": null,
            "right": null,
            "top": null,
            "visibility": null,
            "width": null
          }
        },
        "0727c083b5eb48a993aeef5f48b68f43": {
          "model_module": "@jupyter-widgets/controls",
          "model_name": "ProgressStyleModel",
          "model_module_version": "1.5.0",
          "state": {
            "_model_module": "@jupyter-widgets/controls",
            "_model_module_version": "1.5.0",
            "_model_name": "ProgressStyleModel",
            "_view_count": null,
            "_view_module": "@jupyter-widgets/base",
            "_view_module_version": "1.2.0",
            "_view_name": "StyleView",
            "bar_color": null,
            "description_width": ""
          }
        },
        "4492118ac8584e488b081dc3a803be68": {
          "model_module": "@jupyter-widgets/base",
          "model_name": "LayoutModel",
          "model_module_version": "1.2.0",
          "state": {
            "_model_module": "@jupyter-widgets/base",
            "_model_module_version": "1.2.0",
            "_model_name": "LayoutModel",
            "_view_count": null,
            "_view_module": "@jupyter-widgets/base",
            "_view_module_version": "1.2.0",
            "_view_name": "LayoutView",
            "align_content": null,
            "align_items": null,
            "align_self": null,
            "border": null,
            "bottom": null,
            "display": null,
            "flex": null,
            "flex_flow": null,
            "grid_area": null,
            "grid_auto_columns": null,
            "grid_auto_flow": null,
            "grid_auto_rows": null,
            "grid_column": null,
            "grid_gap": null,
            "grid_row": null,
            "grid_template_areas": null,
            "grid_template_columns": null,
            "grid_template_rows": null,
            "height": null,
            "justify_content": null,
            "justify_items": null,
            "left": null,
            "margin": null,
            "max_height": null,
            "max_width": null,
            "min_height": null,
            "min_width": null,
            "object_fit": null,
            "object_position": null,
            "order": null,
            "overflow": null,
            "overflow_x": null,
            "overflow_y": null,
            "padding": null,
            "right": null,
            "top": null,
            "visibility": null,
            "width": null
          }
        },
        "1bcaf522756b404890804ef12522382c": {
          "model_module": "@jupyter-widgets/controls",
          "model_name": "DescriptionStyleModel",
          "model_module_version": "1.5.0",
          "state": {
            "_model_module": "@jupyter-widgets/controls",
            "_model_module_version": "1.5.0",
            "_model_name": "DescriptionStyleModel",
            "_view_count": null,
            "_view_module": "@jupyter-widgets/base",
            "_view_module_version": "1.2.0",
            "_view_name": "StyleView",
            "description_width": ""
          }
        }
      }
    }
  },
  "nbformat": 4,
  "nbformat_minor": 0
}