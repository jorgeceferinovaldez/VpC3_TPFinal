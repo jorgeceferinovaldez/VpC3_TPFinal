{
 "cells": [
  {
   "cell_type": "code",
   "execution_count": null,
   "id": "a9b2b905",
   "metadata": {},
   "outputs": [],
   "source": [
    "import sys\n",
    "import os\n",
    "import shutil\n",
    "from pathlib import Path\n",
    "from glob import glob\n",
    "import pandas as pd\n",
    "import matplotlib.pyplot as plt\n",
    "import seaborn as sns\n",
    "import numpy as np\n",
    "import cv2"
   ]
  },
  {
   "cell_type": "code",
   "execution_count": null,
   "id": "a45e2b1f",
   "metadata": {},
   "outputs": [],
   "source": [
    "dataset_dir = 'data/'\n",
    "print(f\"Dataset MVTec AD listo en {dataset_dir}\")"
   ]
  },
  {
   "cell_type": "markdown",
   "id": "da48aac4",
   "metadata": {},
   "source": [
    "### Listamos los directorios del dataset"
   ]
  },
  {
   "cell_type": "code",
   "execution_count": null,
   "id": "0c922b20",
   "metadata": {},
   "outputs": [],
   "source": [
    "paths = []\n",
    "labels = []\n",
    "\n",
    "for label in glob(str(dataset_dir)+'/*'):\n",
    "    if 'txt' not in label:\n",
    "#         print(label)\n",
    "        paths.append(label+'/*')\n",
    "        labels.append(label.split('/')[-1])\n",
    "        \n",
    "paths"
   ]
  },
  {
   "cell_type": "code",
   "execution_count": null,
   "id": "14f4bc9b",
   "metadata": {},
   "outputs": [],
   "source": [
    "# Calculamos la cantidad de imagenes en total del dataset\n",
    "image_paths = glob(str(dataset_dir)+'/*/*/*/*')\n",
    "print(f\"Total de imagenes en el dataset: {len(image_paths)}\") "
   ]
  },
  {
   "cell_type": "markdown",
   "id": "ec374a32",
   "metadata": {},
   "source": [
    "### Creación de dataframe para mejor análisis"
   ]
  },
  {
   "cell_type": "code",
   "execution_count": null,
   "id": "39ec143b",
   "metadata": {},
   "outputs": [],
   "source": [
    "print(image_paths[0])"
   ]
  },
  {
   "cell_type": "code",
   "execution_count": null,
   "id": "51ae7c31",
   "metadata": {},
   "outputs": [],
   "source": [
    "df_mvtec = pd.DataFrame(columns=['label', 'group', 'state', 'filename', 'path'])\n",
    "dataframes = []\n",
    "for p in image_paths:\n",
    "    \n",
    "    info = p.split('/')\n",
    "    label = info[1]\n",
    "    group = info[2]\n",
    "    state = info[3]\n",
    "    filename = info[-1]  \n",
    "\n",
    "    temp_df = pd.DataFrame([{\n",
    "        'label': label,\n",
    "        'group': group,\n",
    "        'state': state,\n",
    "        'filename': filename,\n",
    "        'path': p\n",
    "    }])\n",
    "    \n",
    "    dataframes.append(temp_df)\n",
    "\n",
    "df_mvtec = pd.concat(dataframes, ignore_index=True)"
   ]
  },
  {
   "cell_type": "code",
   "execution_count": null,
   "id": "b5f0b2f9",
   "metadata": {},
   "outputs": [],
   "source": [
    "df_mvtec.head()"
   ]
  },
  {
   "cell_type": "markdown",
   "id": "54c30727",
   "metadata": {},
   "source": [
    "## EDA"
   ]
  },
  {
   "cell_type": "code",
   "execution_count": null,
   "id": "2d2284be",
   "metadata": {},
   "outputs": [],
   "source": [
    "# Cantidad de imagenes por clase\n",
    "df_mvtec[df_mvtec['group'] != 'ground_truth']['label'].value_counts() "
   ]
  },
  {
   "cell_type": "markdown",
   "id": "4305421d",
   "metadata": {},
   "source": [
    "### Grafico de barras de la cantidad de imágenes por clase incluyendo la mascara"
   ]
  },
  {
   "cell_type": "code",
   "execution_count": null,
   "id": "33ba1c1d",
   "metadata": {},
   "outputs": [],
   "source": [
    "# Contar las imágenes por clase\n",
    "counts = df_mvtec['label'].value_counts()\n",
    "classes = counts.index\n",
    "values = counts.values\n",
    "\n",
    "# Crear un gráfico de barras\n",
    "plt.figure(figsize=(15, 6))\n",
    "colors = sns.color_palette(\"husl\", len(classes))  # Colores diferentes para cada barra\n",
    "\n",
    "# Crear el gráfico de barras\n",
    "#bar_plot = sns.barplot(x=classes, y=values, palette=colors)\n",
    "bar_plot = sns.barplot(x=classes, y=values, hue=classes, palette=colors)\n",
    "\n",
    "# Agregar la cantidad encima de cada barra\n",
    "for index, value in enumerate(values):\n",
    "    bar_plot.text(index, value, str(value), ha='center', va='bottom')\n",
    "\n",
    "# Etiquetas de los ejes y título\n",
    "plt.xlabel('Clases de Imágenes', fontsize=14)\n",
    "plt.ylabel('Cantidad de Imágenes', fontsize=14)\n",
    "plt.title('Cantidad de Imágenes por Clase', fontsize=16)\n",
    "\n",
    "# Mostrar el gráfico\n",
    "plt.xticks(rotation=45)  # Rotar etiquetas del eje x si es necesario\n",
    "plt.tight_layout()  # Ajustar el layout\n",
    "plt.show()"
   ]
  },
  {
   "cell_type": "markdown",
   "id": "bba8d81b",
   "metadata": {},
   "source": [
    "### Filtramos para graficar Sin la máscara"
   ]
  },
  {
   "cell_type": "code",
   "execution_count": null,
   "id": "9c21da15",
   "metadata": {},
   "outputs": [],
   "source": [
    "# Filtrar el DataFrame para excluir la mascara\n",
    "filtered_counts = df_mvtec[df_mvtec[\"group\"] != \"ground_truth\"][\"label\"].value_counts()\n",
    "classes = filtered_counts.index\n",
    "values = filtered_counts.values\n",
    "\n",
    "# Crear un gráfico de barras\n",
    "plt.figure(figsize=(15, 6))\n",
    "colors = sns.color_palette(\"husl\", len(classes))  # Colores diferentes para cada barra\n",
    "\n",
    "# Crear el gráfico de barras\n",
    "bar_plot = sns.barplot(x=classes, y=values, hue=classes, palette=colors)\n",
    "\n",
    "# Agregar la cantidad encima de cada barra\n",
    "for index, value in enumerate(values):\n",
    "    bar_plot.text(index, value, str(value), ha='center', va='bottom')\n",
    "\n",
    "# Etiquetas de los ejes y título\n",
    "plt.xlabel('Clases de Imágenes', fontsize=14)\n",
    "plt.ylabel('Cantidad de Imágenes', fontsize=14)\n",
    "plt.title('Cantidad de Imágenes por Clase (Excluyendo Ground Truth)', fontsize=16)\n",
    "\n",
    "# Mostrar el gráfico\n",
    "plt.xticks(rotation=45)  # Rotar etiquetas del eje x si es necesario\n",
    "plt.tight_layout()  # Ajustar el layout\n",
    "plt.show()"
   ]
  },
  {
   "cell_type": "markdown",
   "id": "2e00952c",
   "metadata": {},
   "source": [
    "### Filtramos para graficar solo el grupo \"ground_truth\""
   ]
  },
  {
   "cell_type": "code",
   "execution_count": null,
   "id": "0f9d55ef",
   "metadata": {},
   "outputs": [],
   "source": [
    "# Filtrar el DataFrame para incluir solo el grupo \"ground_truth\"\n",
    "ground_truth_counts = df_mvtec[df_mvtec['group'] == 'ground_truth']['label'].value_counts()\n",
    "classes = ground_truth_counts.index\n",
    "values = ground_truth_counts.values\n",
    "\n",
    "# Crear un gráfico de barras\n",
    "plt.figure(figsize=(15, 6))\n",
    "colors = sns.color_palette(\"husl\", len(classes))  # Colores diferentes para cada barra\n",
    "\n",
    "# Crear el gráfico de barras\n",
    "bar_plot = sns.barplot(x=classes, y=values, hue=classes, palette=colors)\n",
    "\n",
    "# Agregar la cantidad encima de cada barra\n",
    "for index, value in enumerate(values):\n",
    "    bar_plot.text(index, value, str(value), ha='center', va='bottom')\n",
    "\n",
    "# Etiquetas de los ejes y título\n",
    "plt.xlabel('Clases de Imágenes', fontsize=14)\n",
    "plt.ylabel('Cantidad de Imágenes', fontsize=14)\n",
    "plt.title('Cantidad de Imágenes por Clase (Ground Truth)', fontsize=16)\n",
    "\n",
    "# Mostrar el gráfico\n",
    "plt.xticks(rotation=45)  # Rotar etiquetas del eje x si es necesario\n",
    "plt.tight_layout()  # Ajustar el layout\n",
    "plt.show()"
   ]
  },
  {
   "cell_type": "markdown",
   "id": "1f4375c1",
   "metadata": {},
   "source": [
    "Ahora vemos como se distribuyen las imágenes de la mascara"
   ]
  },
  {
   "cell_type": "code",
   "execution_count": null,
   "id": "bc1d2027",
   "metadata": {},
   "outputs": [],
   "source": [
    "df_mvtec[df_mvtec['group'] == 'ground_truth']['label'] # Imagenes de Ground Truth o mascara"
   ]
  },
  {
   "cell_type": "code",
   "execution_count": null,
   "id": "691556bd",
   "metadata": {},
   "outputs": [],
   "source": [
    "# Copiamos el DataFrame original para no modificarlo\n",
    "madera_df = df_mvtec[df_mvtec['label'] == 'wood'].copy() \n",
    "madera_df.head() # Vemos las primeras filas del DataFrame filtrado de madera"
   ]
  },
  {
   "cell_type": "code",
   "execution_count": null,
   "id": "a9cc0101",
   "metadata": {},
   "outputs": [],
   "source": [
    "madera_df[madera_df['group'] != 'ground_truth']['state'].value_counts() # Contamos los estados de las imagenes de madera"
   ]
  },
  {
   "cell_type": "markdown",
   "id": "72f812a4",
   "metadata": {},
   "source": [
    "### Gráficamos la distribución de estados de cada etiqueta o 'label'"
   ]
  },
  {
   "cell_type": "code",
   "execution_count": null,
   "id": "fac7581d",
   "metadata": {},
   "outputs": [],
   "source": [
    "# Iterar sobre cada etiqueta única en el DataFrame\n",
    "for label in df_mvtec['label'].unique():\n",
    "    temp_df = df_mvtec[df_mvtec['label'] == label].copy()\n",
    "    \n",
    "    plt.figure(figsize=(14, 4))\n",
    "    \n",
    "    # Filtrar y contar los estados excluyendo 'ground_truth'\n",
    "    state_counts = temp_df[temp_df['group'] != 'ground_truth']['state'].value_counts()\n",
    "    \n",
    "    # Crear un gráfico de barras\n",
    "    colors = sns.color_palette(\"husl\", len(state_counts))  # Colores diferentes para cada barra\n",
    "    barplot = sns.barplot(x=state_counts.index, y=state_counts.values, hue=state_counts.index, palette=colors, legend=False)\n",
    "    \n",
    "    # Título del gráfico\n",
    "    plt.title(f'Cantidad de Imágenes para la Clase: {label}', fontsize=16)\n",
    "    \n",
    "    # Agregar la cantidad encima de cada barra\n",
    "    for p in barplot.patches:\n",
    "        height = p.get_height()\n",
    "        barplot.text(x=p.get_x() + p.get_width() / 2, \n",
    "                     y=height + 0.05, \n",
    "                     s=f'{int(height)}', \n",
    "                     ha='center', size=12)\n",
    "    \n",
    "    # Etiquetas de los ejes\n",
    "    plt.xlabel('Estado de las Imágenes', fontsize=14)\n",
    "    plt.ylabel('Cantidad de Imágenes', fontsize=14)\n",
    "    \n",
    "    # Ajustar el layout y mostrar el gráfico\n",
    "    plt.xticks(rotation=45)  # Rotar etiquetas del eje x si es necesario\n",
    "    plt.tight_layout()  # Ajustar el layout\n",
    "    plt.show()"
   ]
  },
  {
   "cell_type": "markdown",
   "id": "196dd772",
   "metadata": {},
   "source": [
    "### Agrupamos y generamos imágenes por cada estado de cada etiqueta"
   ]
  },
  {
   "cell_type": "code",
   "execution_count": null,
   "id": "0e48e0b9",
   "metadata": {},
   "outputs": [],
   "source": [
    "df_sin_mascara = df_mvtec[df_mvtec['group'] != 'ground_truth'] # No incluyo las imágenes de máscara\n",
    "\n",
    "for label, label_group in df_sin_mascara.groupby('label'):\n",
    "    for state, state_group in label_group.groupby('state'):\n",
    "        fig, axs = plt.subplots(1, 5, figsize=(15, 5))\n",
    "        fig.suptitle(f'{label} - {state}', fontsize=16)\n",
    "        \n",
    "        if len(state_group) == 1:\n",
    "            axs = [axs]  # si solo hay una eje convertir en lista para recorrelo\n",
    "\n",
    "        for ax, (idx, row) in zip(axs, state_group.iterrows()):\n",
    "            img_path = row['path']\n",
    "            img = cv2.imread(img_path)\n",
    "            img = cv2.cvtColor(img, cv2.COLOR_BGR2RGB)\n",
    "            ax.imshow(img)\n",
    "            ax.axis('off')\n",
    "            ax.set_title(row['filename'])\n",
    "            \n",
    "        fig.tight_layout(pad=1.0)\n",
    "        fig.subplots_adjust(top=1.15)  # Ajustar espaciado entre títulos y subtramas\n",
    "\n",
    "        plt.show()\n",
    "        print('\\n\\n')"
   ]
  },
  {
   "cell_type": "code",
   "execution_count": null,
   "id": "aa492726",
   "metadata": {},
   "outputs": [],
   "source": [
    "df_sin_mascara = df_mvtec[df_mvtec['group'] != 'ground_truth'] # No incluyo las imágenes de máscara\n",
    "\n",
    "for current_class in df_sin_mascara['label'].unique():\n",
    "    tmp = df_sin_mascara.loc[df_sin_mascara['label'] == current_class]\n",
    "    states = df_sin_mascara.loc[df_sin_mascara['label'] == current_class, 'state'].unique()\n",
    "\n",
    "    fig, axs = plt.subplots(1, len(states), figsize=(20, 8))\n",
    "    \n",
    "    for col_idx, state in enumerate(states):\n",
    "        img_dir = tmp.loc[tmp['state'] == state, 'path'].sample(1).iloc[0]\n",
    "        img = cv2.imread(img_dir)\n",
    "        img = cv2.cvtColor(img, cv2.COLOR_BGR2RGB)\n",
    "        axs[col_idx].imshow(img)\n",
    "        axs[col_idx].set_xticks([])  # eliminar las marcas del eje x\n",
    "        axs[col_idx].set_yticks([])  # eliminar las marcas del eje y\n",
    "\n",
    "    for ax, col in zip(axs, states):\n",
    "        ax.set_title(col, size=15)\n",
    "\n",
    "    axs[0].set_ylabel(current_class, rotation=0, fontsize=15, labelpad=40, fontdict=dict(weight='bold'))\n",
    "\n",
    "    fig.tight_layout()\n",
    "    plt.show()\n",
    "    print('\\n\\n')"
   ]
  },
  {
   "cell_type": "code",
   "execution_count": null,
   "id": "ba644c52",
   "metadata": {},
   "outputs": [],
   "source": []
  }
 ],
 "metadata": {
  "kernelspec": {
   "display_name": "vpc3-grupal",
   "language": "python",
   "name": "python3"
  },
  "language_info": {
   "codemirror_mode": {
    "name": "ipython",
    "version": 3
   },
   "file_extension": ".py",
   "mimetype": "text/x-python",
   "name": "python",
   "nbconvert_exporter": "python",
   "pygments_lexer": "ipython3",
   "version": "3.10.16"
  }
 },
 "nbformat": 4,
 "nbformat_minor": 5
}
