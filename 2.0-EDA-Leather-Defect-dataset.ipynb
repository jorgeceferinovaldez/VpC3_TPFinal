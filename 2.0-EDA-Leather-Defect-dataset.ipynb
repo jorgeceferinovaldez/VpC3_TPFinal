{
 "cells": [
  {
   "cell_type": "code",
   "execution_count": 1,
   "id": "fe4a2143",
   "metadata": {},
   "outputs": [],
   "source": [
    "from glob import glob\n",
    "import pandas as pd\n",
    "import matplotlib.pyplot as plt\n",
    "import seaborn as sns\n",
    "import cv2"
   ]
  },
  {
   "cell_type": "code",
   "execution_count": 2,
   "id": "8134df0c",
   "metadata": {},
   "outputs": [],
   "source": [
    "#FALTA"
   ]
  }
 ],
 "metadata": {
  "kernelspec": {
   "display_name": "vpc3-grupal",
   "language": "python",
   "name": "python3"
  },
  "language_info": {
   "codemirror_mode": {
    "name": "ipython",
    "version": 3
   },
   "file_extension": ".py",
   "mimetype": "text/x-python",
   "name": "python",
   "nbconvert_exporter": "python",
   "pygments_lexer": "ipython3",
   "version": "3.10.16"
  }
 },
 "nbformat": 4,
 "nbformat_minor": 5
}
